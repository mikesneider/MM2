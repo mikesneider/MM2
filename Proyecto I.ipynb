{
 "cells": [
  {
   "cell_type": "code",
   "execution_count": 1,
   "metadata": {
    "collapsed": true
   },
   "outputs": [],
   "source": [
    "import numpy as np\n",
    "import pandas as pd\n",
    "from scipy.misc import comb\n",
    "from sympy import *\n",
    "import matplotlib.pyplot as plt\n",
    "import random\n",
    "import time\n",
    "from scipy.interpolate import UnivariateSpline\n",
    "import scipy.integrate as sci_integrate\n",
    "%matplotlib inline\n",
    "init_printing(use_latex=True)"
   ]
  },
  {
   "cell_type": "code",
   "execution_count": 2,
   "metadata": {
    "collapsed": false
   },
   "outputs": [],
   "source": [
    "def frange(start, stop, step):\n",
    "    i = start\n",
    "    while i < stop:\n",
    "        yield i\n",
    "        i += step"
   ]
  },
  {
   "cell_type": "markdown",
   "metadata": {},
   "source": [
    "# Proyecto 1 - Modelado matemático II - <font color='red'> Michael Puentes</font> "
   ]
  },
  {
   "cell_type": "code",
   "execution_count": 3,
   "metadata": {
    "collapsed": true
   },
   "outputs": [],
   "source": [
    "#Function of the 8 student number\n",
    "def f(x):\n",
    "    return np.exp(-x**2)"
   ]
  },
  {
   "cell_type": "markdown",
   "metadata": {},
   "source": [
    "#### Tarea 1. Interpolación"
   ]
  },
  {
   "cell_type": "markdown",
   "metadata": {},
   "source": [
    "El polinomio que me ha tocado es el polinomio de $Hermite, W(x) = e^{-x^2}$"
   ]
  },
  {
   "cell_type": "markdown",
   "metadata": {},
   "source": [
    "1.1. Elabórese un programa para calcular su polinomio ortogonal $P_n (x)$ usando las relaciones de recurrencia"
   ]
  },
  {
   "cell_type": "markdown",
   "metadata": {},
   "source": [
    "la Relacion de recurrencia es: $Hn(x)=2xHn−1(x)−2(n−1)Hn−2(x)$"
   ]
  },
  {
   "cell_type": "code",
   "execution_count": 4,
   "metadata": {
    "collapsed": true
   },
   "outputs": [],
   "source": [
    "x = symbols('x')\n",
    "def PolHermite(n):\n",
    "    if n==0:\n",
    "        return 1.\n",
    "    if n==1:\n",
    "        return 2.*x\n",
    "    return (2*x*PolHermite(n-1)-2*(n-1)*PolHermite(n-2))\n",
    "    "
   ]
  },
  {
   "cell_type": "code",
   "execution_count": 5,
   "metadata": {
    "collapsed": false
   },
   "outputs": [
    {
     "name": "stdout",
     "output_type": "stream",
     "text": [
      "Polinomio Hermite grado [ 3 ] =>\n"
     ]
    },
    {
     "data": {
      "image/png": "[encoded data removed]",
      "text/latex": [
       "$$2 x \\left(4.0 x^{2} - 2.0\\right) - 8.0 x$$"
      ],
      "text/plain": [
       "    ⎛     2      ⎞              \n",
       "2⋅x⋅⎝4.0⋅x  - 2.0⎠ - -8.0⋅(-1)⋅x"
      ]
     },
     "execution_count": 5,
     "metadata": {},
     "output_type": "execute_result"
    }
   ],
   "source": [
    "n = 3\n",
    "RES= PolHermite(n)\n",
    "print \"Polinomio Hermite grado [\",n,\"] =>\"\n",
    "RES"
   ]
  },
  {
   "cell_type": "markdown",
   "metadata": {},
   "source": [
    "### 1.2. <font color='red'>Dentro del intervalo de definición escójase $ne=11$ nodos equidistantes $xe(i), i=\\overline{1,11}$ y encuéntrese los valores del polinomio en estos nodos $ye(i), i=\\overline{1,11}$ </font>"
   ]
  },
  {
   "cell_type": "code",
   "execution_count": 6,
   "metadata": {
    "collapsed": false
   },
   "outputs": [
    {
     "name": "stdout",
     "output_type": "stream",
     "text": [
      "nodos equidistantes:  [-10  -8  -6  -4  -2   0   2   4   6   8  10]\n"
     ]
    }
   ],
   "source": [
    "ne = 11\n",
    "h = 2./(ne-1)\n",
    "#xe = np.array([-5 +(i-1)*(h) for i in range(1,ne+1)]) #Nodos Equidistantes\n",
    "xe = np.array(range(-10,12,2)) #Límites\n",
    "print \"nodos equidistantes: \",xe\n",
    "\n",
    "y = lambdify(x,RES,'numpy')#Funcion Hermite\n",
    "A_y = y(xe)#Evalua la funcion en los nodos equidistantes, obtengo los puntos que debería tener."
   ]
  },
  {
   "cell_type": "code",
   "execution_count": 7,
   "metadata": {
    "collapsed": false
   },
   "outputs": [
    {
     "data": {
      "image/png": "[encoded data removed]",
      "text/plain": [
       "<matplotlib.figure.Figure at 0xa9b4b0cc>"
      ]
     },
     "metadata": {},
     "output_type": "display_data"
    }
   ],
   "source": [
    "plt.scatter(xe, A_y, c=\"blue\", label = \"Function Evaluate in each node\")\n",
    "plt.legend(loc='best', bbox_to_anchor=(0.5, -0.1))\n",
    "plt.show()"
   ]
  },
  {
   "cell_type": "markdown",
   "metadata": {},
   "source": [
    "### 1.3. <font color='red'>Elabórese 3 programas para calcular los polinomios intepolantes en la base de algoritmos:</font> \n",
    "#### -Lagrange global, segmentarias lineal y parabólica."
   ]
  },
  {
   "cell_type": "markdown",
   "metadata": {},
   "source": [
    "En análisis numérico, el polinomio de Lagrange, llamado así en honor a Joseph-Louis de Lagrange, es una forma de presentar el polinomio que interpola un conjunto de puntos dado. Lagrange publicó este resultado en 1795, pero lo descubrió Edward Waring en 1779 y fue redescubierto más tarde por Leonhard Euler en 1783.1 Dado que existe un único polinomio interpolador para un determinado conjunto de puntos, resulta algo engañoso llamar a este polinomio el polinomio interpolador de Lagrange. Un nombre más apropiado es interpolación polinómica en la forma de Lagrange [info](https://es.wikipedia.org/wiki/Interpolaci%C3%B3n_polin%C3%B3mica_de_Lagrange)"
   ]
  },
  {
   "cell_type": "code",
   "execution_count": 8,
   "metadata": {
    "collapsed": false
   },
   "outputs": [],
   "source": [
    "#FUNCTION LAGRANGE\n",
    "def Fun_Lagrange(n,Xe,Ye):\n",
    "    ''' Dimension de Xe y Ye\n",
    "        n = número de nodos equidistantes\n",
    "        Xe = valor de cada nodo\n",
    "        Ye = Funcion Hermite evaluada en cada nodo.''' \n",
    "    res = 0\n",
    "    for i in range (1,n):\n",
    "        l=1. #funcion polinómica\n",
    "        for j in range (1,n):\n",
    "            if j != i:\n",
    "                l = l * (symbols('x')- xe[j]) / (xe[i] - xe[j])\n",
    "                #print \"L[\",j,\"]=\",l\n",
    "              \n",
    "        res = res +l*Ye[i]  \n",
    "        #print \"result[\",i,\"]=\",res  \n",
    "    return res"
   ]
  },
  {
   "cell_type": "code",
   "execution_count": 9,
   "metadata": {
    "collapsed": false
   },
   "outputs": [
    {
     "name": "stdout",
     "output_type": "stream",
     "text": [
      "nodos equidistantes:  [-10  -8  -6  -4  -2   0   2   4   6   8  10]\n"
     ]
    }
   ],
   "source": [
    "ne = 11\n",
    "h = 2./(ne-1)\n",
    "#xe = np.array([-5 +(i-1)*(h) for i in range(1,ne+1)]) #Nodos Equidistantes\n",
    "xe = np.array(range(-10,12,2)) #Límites\n",
    "print \"nodos equidistantes: \",xe\n",
    "\n",
    "y = lambdify(x,RES,'numpy')#Funcion Hermite\n",
    "A_y = y(xe)#Evalua la funcion en los nodos equidistantes, obtengo los puntos que debería tener.\n",
    "\n",
    "#Interpolacion\n",
    "poli = Fun_Lagrange(ne,xe,A_y)#Polinomios de Langrange\n",
    "f = lambdify(x, poli)\n",
    "xd = np.linspace(-10,10,11)#11 nodos equidistantes\n",
    "yi_11 = f(xd)\n",
    "Fun_analitica = y(xd)"
   ]
  },
  {
   "cell_type": "code",
   "execution_count": 10,
   "metadata": {
    "collapsed": false
   },
   "outputs": [
    {
     "data": {
      "image/png": "[encoded data removed]",
      "text/plain": [
       "<matplotlib.figure.Figure at 0xa9acf22c>"
      ]
     },
     "metadata": {},
     "output_type": "display_data"
    }
   ],
   "source": [
    "plt.plot(xd,yi_11, color = \"red\", label= \"Solucion Interpolacion con Lagrange\")\n",
    "plt.scatter(xe, A_y, c=\"blue\", label = \"Function Evaluate in each node\")\n",
    "plt.legend(loc='best', bbox_to_anchor=(0.8, -0.1))\n",
    "plt.show()"
   ]
  },
  {
   "cell_type": "code",
   "execution_count": 11,
   "metadata": {
    "collapsed": false
   },
   "outputs": [
    {
     "data": {
      "text/html": [
       "<div>\n",
       "<table border=\"1\" class=\"dataframe\">\n",
       "  <thead>\n",
       "    <tr style=\"text-align: right;\">\n",
       "      <th></th>\n",
       "      <th>Diferencia</th>\n",
       "      <th>Interpolacion</th>\n",
       "      <th>Sol Analitica</th>\n",
       "    </tr>\n",
       "  </thead>\n",
       "  <tbody>\n",
       "    <tr>\n",
       "      <th>0</th>\n",
       "      <td>2.473826e-10</td>\n",
       "      <td>-7880</td>\n",
       "      <td>-7880</td>\n",
       "    </tr>\n",
       "    <tr>\n",
       "      <th>1</th>\n",
       "      <td>2.592060e-11</td>\n",
       "      <td>-4000</td>\n",
       "      <td>-4000</td>\n",
       "    </tr>\n",
       "    <tr>\n",
       "      <th>2</th>\n",
       "      <td>1.364242e-12</td>\n",
       "      <td>-1656</td>\n",
       "      <td>-1656</td>\n",
       "    </tr>\n",
       "    <tr>\n",
       "      <th>3</th>\n",
       "      <td>1.136868e-13</td>\n",
       "      <td>-464</td>\n",
       "      <td>-464</td>\n",
       "    </tr>\n",
       "    <tr>\n",
       "      <th>4</th>\n",
       "      <td>-3.268497e-13</td>\n",
       "      <td>-40</td>\n",
       "      <td>-40</td>\n",
       "    </tr>\n",
       "  </tbody>\n",
       "</table>\n",
       "</div>"
      ],
      "text/plain": [
       "     Diferencia  Interpolacion  Sol Analitica\n",
       "0  2.473826e-10          -7880          -7880\n",
       "1  2.592060e-11          -4000          -4000\n",
       "2  1.364242e-12          -1656          -1656\n",
       "3  1.136868e-13           -464           -464\n",
       "4 -3.268497e-13            -40            -40"
      ]
     },
     "execution_count": 11,
     "metadata": {},
     "output_type": "execute_result"
    }
   ],
   "source": [
    "Tabla_results = pd.DataFrame({\"Sol Analitica\":Fun_analitica ,\"Interpolacion\": yi_11, \"Diferencia\":(Fun_analitica-yi_11)})\n",
    "Tabla_results.head()"
   ]
  },
  {
   "cell_type": "markdown",
   "metadata": {},
   "source": [
    "Hasta ahora, el foco de nuestra discusión ha sido la interpolación de una función dada $f$ sobre una malla dentro\n",
    "de en un intervalo $[a, b]$, por un polinomio en ese intervalo sea a través de la interpolación de Lagrange o\n",
    "interpolación de Newton, o usando otros tipos de funciones de base. Cada una de estas construcciones fue de\n",
    "carácter <b>global</b>, en el sentido de que la aproximación se define por la misma expresión en todo el intervalo $[a,\n",
    "b]$. Una alternativa y la manera más flexible de aproximar una función f es dividir el intervalo $[a, b]$ global en una\n",
    "serie de subintervalos <b>locales</b> y buscar una aproximación a trozos por polinomios de grado más bajo. Tales\n",
    "aproximaciones polinómicas a trozos se llama la <b>interpolación segmentaria</b>. [info](http://www4.ujaen.es/~angelcid/Archivos/An_Met_Num_INFORMATICA/Splines.pdf)\n"
   ]
  },
  {
   "cell_type": "code",
   "execution_count": 12,
   "metadata": {
    "collapsed": false
   },
   "outputs": [
    {
     "name": "stdout",
     "output_type": "stream",
     "text": [
      "function Hermite to evaluate:\n"
     ]
    },
    {
     "data": {
      "image/png": "[encoded data removed]",
      "text/latex": [
       "$$x \\left(8.0 x^{2} - 12.0\\right)$$"
      ],
      "text/plain": [
       "  ⎛     2       ⎞\n",
       "x⋅⎝8.0⋅x  - 12.0⎠"
      ]
     },
     "execution_count": 12,
     "metadata": {},
     "output_type": "execute_result"
    }
   ],
   "source": [
    "print \"function Hermite to evaluate:\"\n",
    "newRES = simplify(RES)\n",
    "newRES"
   ]
  },
  {
   "cell_type": "code",
   "execution_count": 13,
   "metadata": {
    "collapsed": false
   },
   "outputs": [
    {
     "name": "stdout",
     "output_type": "stream",
     "text": [
      "función de la tercera segmentación\n"
     ]
    },
    {
     "data": {
      "image/png": "[encoded data removed]",
      "text/latex": [
       "$$1940.0 x + 11520.0$$"
      ],
      "text/plain": [
       "1940.0⋅x + 11520.0"
      ]
     },
     "execution_count": 13,
     "metadata": {},
     "output_type": "execute_result"
    }
   ],
   "source": [
    "#FUNCTION SEGMENTARIA LIENEAL\n",
    "def segmentacion_lineal(ne,a,b,puntos):\n",
    "    h = (b-a)/ne\n",
    "    polinomios = []\n",
    "    estimaciones = []\n",
    "    #Encontrar segmento donde esta el punto x que queremos estimar\n",
    "    for i in range(0,ne):\n",
    "        a = float(puntos[i])\n",
    "        b = float(puntos[i+1])\n",
    "        punto = puntos[i] #(a+b)/2.\n",
    "        k = int((punto-a)/h)+1\n",
    "        xk = a + (k-1)*h\n",
    "        xk_1 = xk +h\n",
    "        yk = RES.subs({x: xk})\n",
    "        yk_1 = RES.subs({x: xk_1})\n",
    "        estimacion = yk +((yk_1 - yk)/(xk_1-xk))*(punto-xk)\n",
    "        polinomio = yk +((yk_1 - yk)/(xk_1-xk))*(symbols('x')-xk)\n",
    "        polinomios.append(polinomio)\n",
    "        estimaciones.append(estimacion)\n",
    "    return polinomios,estimaciones\n",
    "            \n",
    "n = 11\n",
    "a, b = -10.,12.\n",
    "h = (b-a)/n\n",
    "puntos = np.array(range(-10,14,2)) #Límites\n",
    "pol_estimacion_Lineal, estimacion_Lineal = segmentacion_lineal(n,a,b,puntos)\n",
    "print \"función de la tercera segmentación\"\n",
    "pol_estimacion_Lineal[0]"
   ]
  },
  {
   "cell_type": "code",
   "execution_count": 14,
   "metadata": {
    "collapsed": false
   },
   "outputs": [
    {
     "data": {
      "image/png": "[encoded data removed]",
      "text/plain": [
       "<matplotlib.figure.Figure at 0xa9ba146c>"
      ]
     },
     "metadata": {},
     "output_type": "display_data"
    },
    {
     "data": {
      "text/html": [
       "<div>\n",
       "<table border=\"1\" class=\"dataframe\">\n",
       "  <thead>\n",
       "    <tr style=\"text-align: right;\">\n",
       "      <th></th>\n",
       "      <th>Diferencia</th>\n",
       "      <th>Interpolacion</th>\n",
       "      <th>Sol Analitica</th>\n",
       "    </tr>\n",
       "  </thead>\n",
       "  <tbody>\n",
       "    <tr>\n",
       "      <th>0</th>\n",
       "      <td>0</td>\n",
       "      <td>-7880.00000000000</td>\n",
       "      <td>-7880</td>\n",
       "    </tr>\n",
       "    <tr>\n",
       "      <th>1</th>\n",
       "      <td>0</td>\n",
       "      <td>-4000.00000000000</td>\n",
       "      <td>-4000</td>\n",
       "    </tr>\n",
       "    <tr>\n",
       "      <th>2</th>\n",
       "      <td>0</td>\n",
       "      <td>-1656.00000000000</td>\n",
       "      <td>-1656</td>\n",
       "    </tr>\n",
       "    <tr>\n",
       "      <th>3</th>\n",
       "      <td>0</td>\n",
       "      <td>-464.000000000000</td>\n",
       "      <td>-464</td>\n",
       "    </tr>\n",
       "    <tr>\n",
       "      <th>4</th>\n",
       "      <td>0</td>\n",
       "      <td>-40.0000000000000</td>\n",
       "      <td>-40</td>\n",
       "    </tr>\n",
       "    <tr>\n",
       "      <th>5</th>\n",
       "      <td>0.0</td>\n",
       "      <td>0</td>\n",
       "      <td>-0</td>\n",
       "    </tr>\n",
       "    <tr>\n",
       "      <th>6</th>\n",
       "      <td>0</td>\n",
       "      <td>40.0000000000000</td>\n",
       "      <td>40</td>\n",
       "    </tr>\n",
       "    <tr>\n",
       "      <th>7</th>\n",
       "      <td>0</td>\n",
       "      <td>464.000000000000</td>\n",
       "      <td>464</td>\n",
       "    </tr>\n",
       "    <tr>\n",
       "      <th>8</th>\n",
       "      <td>0</td>\n",
       "      <td>1656.00000000000</td>\n",
       "      <td>1656</td>\n",
       "    </tr>\n",
       "    <tr>\n",
       "      <th>9</th>\n",
       "      <td>0</td>\n",
       "      <td>4000.00000000000</td>\n",
       "      <td>4000</td>\n",
       "    </tr>\n",
       "    <tr>\n",
       "      <th>10</th>\n",
       "      <td>0</td>\n",
       "      <td>7880.00000000000</td>\n",
       "      <td>7880</td>\n",
       "    </tr>\n",
       "  </tbody>\n",
       "</table>\n",
       "</div>"
      ],
      "text/plain": [
       "   Diferencia      Interpolacion  Sol Analitica\n",
       "0           0  -7880.00000000000          -7880\n",
       "1           0  -4000.00000000000          -4000\n",
       "2           0  -1656.00000000000          -1656\n",
       "3           0  -464.000000000000           -464\n",
       "4           0  -40.0000000000000            -40\n",
       "5         0.0                  0             -0\n",
       "6           0   40.0000000000000             40\n",
       "7           0   464.000000000000            464\n",
       "8           0   1656.00000000000           1656\n",
       "9           0   4000.00000000000           4000\n",
       "10          0   7880.00000000000           7880"
      ]
     },
     "execution_count": 14,
     "metadata": {},
     "output_type": "execute_result"
    }
   ],
   "source": [
    "#Interpolacion\n",
    "#print estimacion_Lineal\n",
    "Fun_analitica = y(xe)\n",
    "\n",
    "plt.scatter(xe, Fun_analitica, c=\"b\", label = \"Function Hermite Evaluate in each node\",s=35)\n",
    "plt.plot(xe,estimacion_Lineal, color = \"r\", label= \"Solucion Interpolacion Segmentaria lineal\")\n",
    "plt.legend(loc='best', bbox_to_anchor=(0.8, -0.1))\n",
    "plt.show()\n",
    "Tabla_results = pd.DataFrame({\"Sol Analitica\":Fun_analitica ,\"Interpolacion\": estimacion_Lineal, \"Diferencia\":(Fun_analitica-estimacion_Lineal)})\n",
    "Tabla_results"
   ]
  },
  {
   "cell_type": "code",
   "execution_count": 15,
   "metadata": {
    "collapsed": false
   },
   "outputs": [
    {
     "name": "stdout",
     "output_type": "stream",
     "text": [
      "[-10  -8  -6  -4  -2   0   2   4   6   8  10]\n"
     ]
    },
    {
     "data": {
      "image/png": "[encoded data removed]",
      "text/latex": [
       "$$4374.67272727273 x^{2} + 81517.5867768595 x + 369828.595041322$$"
      ],
      "text/plain": [
       "                  2                                        \n",
       "4374.67272727273⋅x  + 81517.5867768595⋅x + 369828.595041322"
      ]
     },
     "execution_count": 15,
     "metadata": {},
     "output_type": "execute_result"
    }
   ],
   "source": [
    "#FUNCIÓN PARABÓLICA O CUADRÁTICA\n",
    "def fun_parabolica(ne,a,h,puntosX):\n",
    "    polinomios = []\n",
    "    estimados = []\n",
    "    for i in range(0,ne):\n",
    "        punto = float(puntosX[i])\n",
    "        a = float(puntos[i])\n",
    "        b = float(puntos[i+1])\n",
    "        #print \"x: \",punto, \"a:\",a,b,h\n",
    "        #Encontrar segmento donde esta el punto x\n",
    "        k = int((punto-a)/h)+1\n",
    "        xk = a + (k-1)*h\n",
    "        xk_1 = xk+h\n",
    "        xk_2 = xk + 2*h\n",
    "        yk = RES.subs({x: xk})\n",
    "        yk_1 = RES.subs({x: xk_1})\n",
    "        yk_2 = RES.subs({x: xk_2})\n",
    "\n",
    "        polinomio = yk +(yk_1 - yk)*((symbols('x')-xk)/h ) +(yk_2-2*yk_1-yk)*(symbols('x')-xk)*(symbols('x')-xk_1)/h**2\n",
    "        estimado = yk +(yk_1 - yk)*((punto-xk)/h ) +(yk_2-2*yk_1-yk)*(punto-xk)*(punto-xk_1)/h**2\n",
    "        polinomios.append(polinomio)\n",
    "        estimados.append(estimado)\n",
    "    return polinomios, estimados\n",
    "            \n",
    "n = 11\n",
    "a, b = -10., 10.\n",
    "h = (b-a)/n\n",
    "print xe\n",
    "puntos = np.array(range(-10,14,2)) #Límites\n",
    "polinomiosC, estimacion_parabolica = fun_parabolica(n,a,h,puntos)\n",
    "outer = simplify(polinomiosC[0])\n",
    "outer"
   ]
  },
  {
   "cell_type": "code",
   "execution_count": 16,
   "metadata": {
    "collapsed": false
   },
   "outputs": [
    {
     "data": {
      "image/png": "[encoded data removed]",
      "text/plain": [
       "<matplotlib.figure.Figure at 0xa9b6facc>"
      ]
     },
     "metadata": {},
     "output_type": "display_data"
    },
    {
     "data": {
      "text/html": [
       "<div>\n",
       "<table border=\"1\" class=\"dataframe\">\n",
       "  <thead>\n",
       "    <tr style=\"text-align: right;\">\n",
       "      <th></th>\n",
       "      <th>Diferencia</th>\n",
       "      <th>Interpolacion</th>\n",
       "      <th>Sol Analitica</th>\n",
       "    </tr>\n",
       "  </thead>\n",
       "  <tbody>\n",
       "    <tr>\n",
       "      <th>0</th>\n",
       "      <td>0</td>\n",
       "      <td>-7880.00000000000</td>\n",
       "      <td>-7880</td>\n",
       "    </tr>\n",
       "    <tr>\n",
       "      <th>1</th>\n",
       "      <td>0</td>\n",
       "      <td>-4000.00000000000</td>\n",
       "      <td>-4000</td>\n",
       "    </tr>\n",
       "    <tr>\n",
       "      <th>2</th>\n",
       "      <td>0</td>\n",
       "      <td>-1656.00000000000</td>\n",
       "      <td>-1656</td>\n",
       "    </tr>\n",
       "    <tr>\n",
       "      <th>3</th>\n",
       "      <td>0</td>\n",
       "      <td>-464.000000000000</td>\n",
       "      <td>-464</td>\n",
       "    </tr>\n",
       "    <tr>\n",
       "      <th>4</th>\n",
       "      <td>0</td>\n",
       "      <td>-40.0000000000000</td>\n",
       "      <td>-40</td>\n",
       "    </tr>\n",
       "  </tbody>\n",
       "</table>\n",
       "</div>"
      ],
      "text/plain": [
       "  Diferencia      Interpolacion  Sol Analitica\n",
       "0          0  -7880.00000000000          -7880\n",
       "1          0  -4000.00000000000          -4000\n",
       "2          0  -1656.00000000000          -1656\n",
       "3          0  -464.000000000000           -464\n",
       "4          0  -40.0000000000000            -40"
      ]
     },
     "execution_count": 16,
     "metadata": {},
     "output_type": "execute_result"
    }
   ],
   "source": [
    "\n",
    "y = lambdify(x,RES,'numpy')#Funcion Hermite\n",
    "fun_Analitycal = y(xe)#Evalua la funcion en los nodos equidistantes, obtengo los puntos que debería tener.\n",
    "xd = np.linspace(-10,10,1000)\n",
    "\n",
    "plt.scatter(xe, fun_Analitycal, c=\"blue\", label = \"Function Hermite Evaluate in each node\",s=35)\n",
    "plt.plot(xe,estimacion_parabolica, color = \"red\", label= \"Solucion Interpolacion con Lagrange\")\n",
    "plt.legend(loc='best', bbox_to_anchor=(0.8, -0.1))\n",
    "plt.show()\n",
    "Tabla_results = pd.DataFrame({\"Sol Analitica\":Fun_analitica ,\"Interpolacion\": estimacion_parabolica, \"Diferencia\":(Fun_analitica-estimacion_parabolica)})\n",
    "Tabla_results.head()"
   ]
  },
  {
   "cell_type": "markdown",
   "metadata": {
    "collapsed": true
   },
   "source": [
    "### 1.4 <font color='red'>Dentro del intervalo de definición escójase $n = 200$ nodos equidistantes $x(i), i = \\bar{1, 200}$ y encuéntrese los valores del polinomio en estos nodos $y(i), i=\\bar{1, 200}$ mediante de $3$ funciones intepolantes y compárese los resultados con los valores exactos.</font>"
   ]
  },
  {
   "cell_type": "code",
   "execution_count": 17,
   "metadata": {
    "collapsed": false
   },
   "outputs": [
    {
     "name": "stdout",
     "output_type": "stream",
     "text": [
      "nodos equidistantes:  [-10.  -8.  -6.  -4.  -2.   0.   2.   4.   6.   8.  10.]\n"
     ]
    },
    {
     "data": {
      "image/png": "[encoded data removed]",
      "text/plain": [
       "<matplotlib.figure.Figure at 0xa831e94c>"
      ]
     },
     "metadata": {},
     "output_type": "display_data"
    },
    {
     "data": {
      "text/html": [
       "<div>\n",
       "<table border=\"1\" class=\"dataframe\">\n",
       "  <thead>\n",
       "    <tr style=\"text-align: right;\">\n",
       "      <th></th>\n",
       "      <th>Diferencia</th>\n",
       "      <th>Interpolacion</th>\n",
       "      <th>Sol Analitica</th>\n",
       "    </tr>\n",
       "  </thead>\n",
       "  <tbody>\n",
       "    <tr>\n",
       "      <th>0</th>\n",
       "      <td>1.455192e-10</td>\n",
       "      <td>-7880</td>\n",
       "      <td>-7880</td>\n",
       "    </tr>\n",
       "    <tr>\n",
       "      <th>1</th>\n",
       "      <td>1.591616e-11</td>\n",
       "      <td>-4000</td>\n",
       "      <td>-4000</td>\n",
       "    </tr>\n",
       "    <tr>\n",
       "      <th>2</th>\n",
       "      <td>1.364242e-12</td>\n",
       "      <td>-1656</td>\n",
       "      <td>-1656</td>\n",
       "    </tr>\n",
       "    <tr>\n",
       "      <th>3</th>\n",
       "      <td>1.136868e-13</td>\n",
       "      <td>-464</td>\n",
       "      <td>-464</td>\n",
       "    </tr>\n",
       "    <tr>\n",
       "      <th>4</th>\n",
       "      <td>-3.268497e-13</td>\n",
       "      <td>-40</td>\n",
       "      <td>-40</td>\n",
       "    </tr>\n",
       "    <tr>\n",
       "      <th>5</th>\n",
       "      <td>-0.000000e+00</td>\n",
       "      <td>0</td>\n",
       "      <td>-0</td>\n",
       "    </tr>\n",
       "    <tr>\n",
       "      <th>6</th>\n",
       "      <td>1.421085e-14</td>\n",
       "      <td>40</td>\n",
       "      <td>40</td>\n",
       "    </tr>\n",
       "    <tr>\n",
       "      <th>7</th>\n",
       "      <td>1.705303e-13</td>\n",
       "      <td>464</td>\n",
       "      <td>464</td>\n",
       "    </tr>\n",
       "    <tr>\n",
       "      <th>8</th>\n",
       "      <td>1.364242e-12</td>\n",
       "      <td>1656</td>\n",
       "      <td>1656</td>\n",
       "    </tr>\n",
       "    <tr>\n",
       "      <th>9</th>\n",
       "      <td>3.637979e-12</td>\n",
       "      <td>4000</td>\n",
       "      <td>4000</td>\n",
       "    </tr>\n",
       "    <tr>\n",
       "      <th>10</th>\n",
       "      <td>9.094947e-13</td>\n",
       "      <td>7880</td>\n",
       "      <td>7880</td>\n",
       "    </tr>\n",
       "  </tbody>\n",
       "</table>\n",
       "</div>"
      ],
      "text/plain": [
       "      Diferencia  Interpolacion  Sol Analitica\n",
       "0   1.455192e-10          -7880          -7880\n",
       "1   1.591616e-11          -4000          -4000\n",
       "2   1.364242e-12          -1656          -1656\n",
       "3   1.136868e-13           -464           -464\n",
       "4  -3.268497e-13            -40            -40\n",
       "5  -0.000000e+00              0             -0\n",
       "6   1.421085e-14             40             40\n",
       "7   1.705303e-13            464            464\n",
       "8   1.364242e-12           1656           1656\n",
       "9   3.637979e-12           4000           4000\n",
       "10  9.094947e-13           7880           7880"
      ]
     },
     "execution_count": 17,
     "metadata": {},
     "output_type": "execute_result"
    }
   ],
   "source": [
    "#LAGRANGE\n",
    "ne = 11\n",
    "h = 2./(ne-1)\n",
    "#xe = np.array([-5 +(i-1)*(h) for i in range(1,ne+1)]) #Nodos Equidistantes\n",
    "#xe = np.array(range(-10,12,2)) #Límites\n",
    "xe = np.linspace(-10.,10.,ne)\n",
    "print \"nodos equidistantes: \",xe\n",
    "\n",
    "y = lambdify(x,RES,'numpy')#Funcion Hermite\n",
    "A_y = y(xe)#Evalua la funcion en los nodos equidistantes, obtengo los puntos que debería tener.\n",
    "\n",
    "#Interpolacion\n",
    "poli = Fun_Lagrange(ne,xe,A_y)#Polinomios de Langrange\n",
    "f = lambdify(x, poli)\n",
    "xd2 = np.linspace(-10,10,200)\n",
    "xd = np.linspace(-10,10,11)\n",
    "yi = f(xd)\n",
    "yi2 = f(xd2)\n",
    "Fun_analitica = y(xd)\n",
    "\n",
    "plt.figure(figsize=(10,5))\n",
    "plt.subplot(1,2,1)\n",
    "#plt.scatter(xe, A_y, c=\"blue\", label = \"Function Evaluate in each node\")\n",
    "plt.plot(xd2,yi2, color = \"g\", label= \"Solucion Interpolacion con Lagrange 200 nodos\")\n",
    "plt.legend(loc='right', bbox_to_anchor=(0.8, -0.1))\n",
    "plt.subplot(1,2,2)\n",
    "plt.plot(xd,yi, color = \"red\", label= \"Solucion Interpolacion con Lagrange 11 nodos\")\n",
    "plt.legend(loc='right', bbox_to_anchor=(1.6, -0.1))\n",
    "plt.show()\n",
    "Tabla_results = pd.DataFrame({\"Sol Analitica\":Fun_analitica ,\"Interpolacion\": yi,\"Diferencia\":(Fun_analitica-yi)})\n",
    "Tabla_results"
   ]
  },
  {
   "cell_type": "code",
   "execution_count": 18,
   "metadata": {
    "collapsed": false
   },
   "outputs": [
    {
     "name": "stdout",
     "output_type": "stream",
     "text": [
      "0.1 201 -10 10.0\n",
      "función de la tercera segmentación 200\n"
     ]
    },
    {
     "data": {
      "image/png": "[encoded data removed]",
      "text/latex": [
       "$$2364.08 x + 15760.8$$"
      ],
      "text/plain": [
       "2364.08⋅x + 15760.8"
      ]
     },
     "execution_count": 18,
     "metadata": {},
     "output_type": "execute_result"
    }
   ],
   "source": [
    "#SEGMENTARIA LINEAL\n",
    "a,b = -10.,10.\n",
    "ne = 200\n",
    "step=20./ne\n",
    "puntos = list(frange(-10, 10, step))\n",
    "print step,len(puntos),puntos[0],puntos[ne]\n",
    "pol_estimacion_Lineal, estimacion_Lineal = segmentacion_lineal(ne,a,b,puntos)\n",
    "print \"función de la tercera segmentación\", len(estimacion_Lineal)\n",
    "del puntos[-1]\n",
    "pol_estimacion_Lineal[0]"
   ]
  },
  {
   "cell_type": "code",
   "execution_count": 19,
   "metadata": {
    "collapsed": false
   },
   "outputs": [
    {
     "data": {
      "image/png": "[encoded data removed]",
      "text/plain": [
       "<matplotlib.figure.Figure at 0xa7df618c>"
      ]
     },
     "metadata": {},
     "output_type": "display_data"
    },
    {
     "data": {
      "text/html": [
       "<div>\n",
       "<table border=\"1\" class=\"dataframe\">\n",
       "  <thead>\n",
       "    <tr style=\"text-align: right;\">\n",
       "      <th></th>\n",
       "      <th>Diferencia</th>\n",
       "      <th>Interpolacion</th>\n",
       "      <th>Sol Analitica</th>\n",
       "    </tr>\n",
       "  </thead>\n",
       "  <tbody>\n",
       "    <tr>\n",
       "      <th>195</th>\n",
       "      <td>213.267141875967</td>\n",
       "      <td>6744.99999999992</td>\n",
       "      <td>6958.267142</td>\n",
       "    </tr>\n",
       "    <tr>\n",
       "      <th>196</th>\n",
       "      <td>218.910358195950</td>\n",
       "      <td>6962.68799999992</td>\n",
       "      <td>7181.598358</td>\n",
       "    </tr>\n",
       "    <tr>\n",
       "      <th>197</th>\n",
       "      <td>224.647755149658</td>\n",
       "      <td>7184.98399999992</td>\n",
       "      <td>7409.631755</td>\n",
       "    </tr>\n",
       "    <tr>\n",
       "      <th>198</th>\n",
       "      <td>230.480059997558</td>\n",
       "      <td>7411.93599999992</td>\n",
       "      <td>7642.416060</td>\n",
       "    </tr>\n",
       "    <tr>\n",
       "      <th>199</th>\n",
       "      <td>236.408000000087</td>\n",
       "      <td>7643.59199999991</td>\n",
       "      <td>7880.000000</td>\n",
       "    </tr>\n",
       "  </tbody>\n",
       "</table>\n",
       "</div>"
      ],
      "text/plain": [
       "           Diferencia     Interpolacion  Sol Analitica\n",
       "195  213.267141875967  6744.99999999992    6958.267142\n",
       "196  218.910358195950  6962.68799999992    7181.598358\n",
       "197  224.647755149658  7184.98399999992    7409.631755\n",
       "198  230.480059997558  7411.93599999992    7642.416060\n",
       "199  236.408000000087  7643.59199999991    7880.000000"
      ]
     },
     "execution_count": 19,
     "metadata": {},
     "output_type": "execute_result"
    }
   ],
   "source": [
    "xReal = np.linspace(-10,10,200)\n",
    "\n",
    "#print estimacion_Lineal\n",
    "Fun_analitica = y(xReal)\n",
    "\n",
    "#Función Real Hermtite\n",
    "f = lambdify(x, RES)\n",
    "\n",
    "FA_200 = f(xReal)\n",
    "\n",
    "plt.plot(xReal, Fun_analitica, c=\"b\", label = \"Function Hermite Evaluate in each node\")\n",
    "plt.plot(puntos,estimacion_Lineal, color = \"r\", label= \"Solucion Interpolacion Segmentaria lineal\")\n",
    "plt.legend(loc='best', bbox_to_anchor=(0.8, -0.1))\n",
    "plt.show()\n",
    "Tabla_results = pd.DataFrame({\"Sol Analitica\":FA_200 ,\"Interpolacion\": estimacion_Lineal, \"Diferencia\":(FA_200-estimacion_Lineal)})\n",
    "Tabla_results.tail()"
   ]
  },
  {
   "cell_type": "code",
   "execution_count": 20,
   "metadata": {
    "collapsed": false
   },
   "outputs": [
    {
     "name": "stdout",
     "output_type": "stream",
     "text": [
      "0.1 201 -10\n",
      "200 200\n"
     ]
    },
    {
     "data": {
      "image/png": "[encoded data removed]",
      "text/latex": [
       "$$1575524.8 x^{2} + 31355307.6 x + 155992716.0$$"
      ],
      "text/plain": [
       "           2                             \n",
       "1575524.8⋅x  + 31355307.6⋅x + 155992716.0"
      ]
     },
     "execution_count": 20,
     "metadata": {},
     "output_type": "execute_result"
    }
   ],
   "source": [
    "#SEGMENTARIA CUADRÁTICA\n",
    "a,b = -10.,10.\n",
    "ne = 200\n",
    "step=20./ne\n",
    "puntos = list(frange(-10, 10, step))\n",
    "#puntos = np.linspace(-10,10,201)\n",
    "print step,len(puntos),puntos[0]\n",
    "h = (b-a)/ne\n",
    "polinomiosC, estimacion_parabolica = fun_parabolica(ne,a,h,puntos)\n",
    "del puntos[-1]\n",
    "print len(estimacion_parabolica),len(puntos)\n",
    "outer = simplify(polinomiosC[0])\n",
    "outer"
   ]
  },
  {
   "cell_type": "code",
   "execution_count": 21,
   "metadata": {
    "collapsed": false
   },
   "outputs": [
    {
     "data": {
      "image/png": "[encoded data removed]",
      "text/plain": [
       "<matplotlib.figure.Figure at 0xa7df6a6c>"
      ]
     },
     "metadata": {},
     "output_type": "display_data"
    },
    {
     "data": {
      "text/html": [
       "<div>\n",
       "<table border=\"1\" class=\"dataframe\">\n",
       "  <thead>\n",
       "    <tr style=\"text-align: right;\">\n",
       "      <th></th>\n",
       "      <th>Diferencia</th>\n",
       "      <th>Interpolacion</th>\n",
       "      <th>Sol Analitica</th>\n",
       "    </tr>\n",
       "  </thead>\n",
       "  <tbody>\n",
       "    <tr>\n",
       "      <th>195</th>\n",
       "      <td>213.267141875967</td>\n",
       "      <td>6744.99999999992</td>\n",
       "      <td>6958.267142</td>\n",
       "    </tr>\n",
       "    <tr>\n",
       "      <th>196</th>\n",
       "      <td>218.910358195950</td>\n",
       "      <td>6962.68799999992</td>\n",
       "      <td>7181.598358</td>\n",
       "    </tr>\n",
       "    <tr>\n",
       "      <th>197</th>\n",
       "      <td>224.647755149658</td>\n",
       "      <td>7184.98399999992</td>\n",
       "      <td>7409.631755</td>\n",
       "    </tr>\n",
       "    <tr>\n",
       "      <th>198</th>\n",
       "      <td>230.480059997558</td>\n",
       "      <td>7411.93599999992</td>\n",
       "      <td>7642.416060</td>\n",
       "    </tr>\n",
       "    <tr>\n",
       "      <th>199</th>\n",
       "      <td>236.408000000087</td>\n",
       "      <td>7643.59199999991</td>\n",
       "      <td>7880.000000</td>\n",
       "    </tr>\n",
       "  </tbody>\n",
       "</table>\n",
       "</div>"
      ],
      "text/plain": [
       "           Diferencia     Interpolacion  Sol Analitica\n",
       "195  213.267141875967  6744.99999999992    6958.267142\n",
       "196  218.910358195950  6962.68799999992    7181.598358\n",
       "197  224.647755149658  7184.98399999992    7409.631755\n",
       "198  230.480059997558  7411.93599999992    7642.416060\n",
       "199  236.408000000087  7643.59199999991    7880.000000"
      ]
     },
     "execution_count": 21,
     "metadata": {},
     "output_type": "execute_result"
    }
   ],
   "source": [
    "#print estimacion_Lineal\n",
    "xReal = np.linspace(-10,10,200)\n",
    "Fun_analitica = y(xReal)\n",
    "\n",
    "#Función Real Hermtite\n",
    "f = lambdify(x, RES)\n",
    "FA_200 = f(xReal)\n",
    "\n",
    "plt.plot(xReal, Fun_analitica, c=\"b\", label = \"Function Hermite Evaluate in each node\")\n",
    "plt.plot(puntos,estimacion_parabolica, color = \"r\", label= \"Solucion Interpolacion Segmentaria lineal\")\n",
    "plt.legend(loc='best', bbox_to_anchor=(0.8, -0.1))\n",
    "plt.show()\n",
    "Tabla_results = pd.DataFrame({\"Sol Analitica\":FA_200 ,\"Interpolacion\": estimacion_parabolica, \"Diferencia\":(FA_200-estimacion_parabolica)})\n",
    "Tabla_results.tail()"
   ]
  },
  {
   "cell_type": "markdown",
   "metadata": {},
   "source": [
    "### 1.5. <font color='red'>Introduzca los errores aleatorios de 1%en los valores del polinomio $ye(i) = ye(i)+ 0.01*random, i = \\bar{1, 11}$ y con estos nuevos valores realícese la tarea 1.4.</font>"
   ]
  },
  {
   "cell_type": "code",
   "execution_count": 22,
   "metadata": {
    "collapsed": false
   },
   "outputs": [],
   "source": [
    "#ERROR RANDOM\n",
    "ne = 200\n",
    "r = np.random.rand(ne)\n",
    "error = r*0.01"
   ]
  },
  {
   "cell_type": "code",
   "execution_count": 23,
   "metadata": {
    "collapsed": false
   },
   "outputs": [
    {
     "name": "stdout",
     "output_type": "stream",
     "text": [
      "nodos equidistantes:  200 Elementos de error:  200\n",
      "primer elemento:  7880.0 Con error:  7880.00027039 elemento x:  10.0\n",
      "200\n"
     ]
    },
    {
     "data": {
      "image/png": "[encoded data removed]",
      "text/plain": [
       "<matplotlib.figure.Figure at 0xa7ea6e6c>"
      ]
     },
     "metadata": {},
     "output_type": "display_data"
    },
    {
     "data": {
      "text/html": [
       "<div>\n",
       "<table border=\"1\" class=\"dataframe\">\n",
       "  <thead>\n",
       "    <tr style=\"text-align: right;\">\n",
       "      <th></th>\n",
       "      <th>Diferencia</th>\n",
       "      <th>Hermite</th>\n",
       "      <th>Hermite + Error</th>\n",
       "      <th>Interpolacion</th>\n",
       "      <th>x</th>\n",
       "    </tr>\n",
       "  </thead>\n",
       "  <tbody>\n",
       "    <tr>\n",
       "      <th>195</th>\n",
       "      <td>1.149680e+15</td>\n",
       "      <td>6958.267142</td>\n",
       "      <td>6958.271558</td>\n",
       "      <td>-1.149680e+15</td>\n",
       "      <td>9.597990</td>\n",
       "    </tr>\n",
       "    <tr>\n",
       "      <th>196</th>\n",
       "      <td>1.205452e+15</td>\n",
       "      <td>7181.598358</td>\n",
       "      <td>7181.606783</td>\n",
       "      <td>-1.205452e+15</td>\n",
       "      <td>9.698492</td>\n",
       "    </tr>\n",
       "    <tr>\n",
       "      <th>197</th>\n",
       "      <td>1.263617e+15</td>\n",
       "      <td>7409.631755</td>\n",
       "      <td>7409.633008</td>\n",
       "      <td>-1.263617e+15</td>\n",
       "      <td>9.798995</td>\n",
       "    </tr>\n",
       "    <tr>\n",
       "      <th>198</th>\n",
       "      <td>1.324263e+15</td>\n",
       "      <td>7642.416060</td>\n",
       "      <td>7642.420951</td>\n",
       "      <td>-1.324263e+15</td>\n",
       "      <td>9.899497</td>\n",
       "    </tr>\n",
       "    <tr>\n",
       "      <th>199</th>\n",
       "      <td>1.387483e+15</td>\n",
       "      <td>7880.000000</td>\n",
       "      <td>7880.000270</td>\n",
       "      <td>-1.387483e+15</td>\n",
       "      <td>10.000000</td>\n",
       "    </tr>\n",
       "  </tbody>\n",
       "</table>\n",
       "</div>"
      ],
      "text/plain": [
       "       Diferencia      Hermite  Hermite + Error  Interpolacion         x \n",
       "195  1.149680e+15  6958.267142      6958.271558  -1.149680e+15   9.597990\n",
       "196  1.205452e+15  7181.598358      7181.606783  -1.205452e+15   9.698492\n",
       "197  1.263617e+15  7409.631755      7409.633008  -1.263617e+15   9.798995\n",
       "198  1.324263e+15  7642.416060      7642.420951  -1.324263e+15   9.899497\n",
       "199  1.387483e+15  7880.000000      7880.000270  -1.387483e+15  10.000000"
      ]
     },
     "execution_count": 23,
     "metadata": {},
     "output_type": "execute_result"
    }
   ],
   "source": [
    "#LAGRANGE\n",
    "xe = np.linspace(-10.,10.,ne)\n",
    "\n",
    "print \"nodos equidistantes: \",len(xe), \"Elementos de error: \",len(error)\n",
    "y = lambdify(x,RES,'numpy')#Funcion Hermite\n",
    "A_y = y(xe)\n",
    "A_y_error = [A + B for A, B in zip(y(xe), error)]#suma el error a cada elemento del vector\n",
    "print \"primer elemento: \",A_y[ne-1],\"Con error: \",A_y_error[ne-1],\"elemento x: \",xe[ne-1]\n",
    "#Interpolacion\n",
    "nodosLagrange=11\n",
    "print len(xe)\n",
    "poli = Fun_Lagrange(nodosLagrange,xe,A_y_error)#Polinomios de Langrange + error\n",
    "f = lambdify(x, poli)\n",
    "yi = f(xe)\n",
    "\n",
    "plt.plot(xe, A_y_error, c=\"b\", label = \"Hermite function with error\",lw=10,alpha=0.3)\n",
    "plt.plot(xe,A_y, color = \"b\", label= \"Hermite function without error\")\n",
    "plt.plot(xe,yi, color = \"r\", label= \"Solucion Interpolacion con Lagrange + error\")\n",
    "plt.legend(loc='best', bbox_to_anchor=(0.9, -0.1))\n",
    "plt.show()\n",
    "Tabla_results = pd.DataFrame({\"Hermite\":A_y ,\"Hermite + Error\":A_y_error,\"x \":xe, \"Interpolacion\": yi, \"Diferencia\":(A_y-yi)})\n",
    "Tabla_results.tail()"
   ]
  },
  {
   "cell_type": "markdown",
   "metadata": {},
   "source": [
    "<b>plot the function Hermie and the function with error</b>"
   ]
  },
  {
   "cell_type": "code",
   "execution_count": 24,
   "metadata": {
    "collapsed": false
   },
   "outputs": [
    {
     "data": {
      "image/png": "[encoded data removed]",
      "text/plain": [
       "<matplotlib.figure.Figure at 0xa7e78a2c>"
      ]
     },
     "metadata": {},
     "output_type": "display_data"
    }
   ],
   "source": [
    "plt.plot(xe, A_y_error, c=\"b\", label = \"Hermite function with error\",lw=10,alpha=0.3)\n",
    "plt.plot(xe,A_y, color = \"r\", label= \"Hermite function without error\")\n",
    "plt.legend(loc='best', bbox_to_anchor=(0.9, -0.1))\n",
    "plt.show()"
   ]
  },
  {
   "cell_type": "code",
   "execution_count": 25,
   "metadata": {
    "collapsed": false
   },
   "outputs": [
    {
     "name": "stdout",
     "output_type": "stream",
     "text": [
      "0.1 201 -10 10.0\n",
      "función de la tercera segmentación 200\n"
     ]
    },
    {
     "data": {
      "image/png": "[encoded data removed]",
      "text/latex": [
       "$$2364.08 x + 15760.8$$"
      ],
      "text/plain": [
       "2364.08⋅x + 15760.8"
      ]
     },
     "execution_count": 25,
     "metadata": {},
     "output_type": "execute_result"
    }
   ],
   "source": [
    "#SEGMENTARIA LINEAL\n",
    "a,b = -10.,10.\n",
    "ne = 200\n",
    "step=20./ne\n",
    "puntos = list(frange(-10, 10, step))\n",
    "print step,len(puntos),puntos[0],puntos[ne]\n",
    "pol_estimacion_Lineal, estimacion_Lineal = segmentacion_lineal(ne,a,b,puntos)\n",
    "print \"función de la tercera segmentación\", len(estimacion_Lineal)\n",
    "del puntos[-1]\n",
    "pol_estimacion_Lineal[0]\n"
   ]
  },
  {
   "cell_type": "code",
   "execution_count": 26,
   "metadata": {
    "collapsed": false
   },
   "outputs": [
    {
     "data": {
      "image/png": "[encoded data removed]",
      "text/plain": [
       "<matplotlib.figure.Figure at 0xa7c8482c>"
      ]
     },
     "metadata": {},
     "output_type": "display_data"
    },
    {
     "data": {
      "text/html": [
       "<div>\n",
       "<table border=\"1\" class=\"dataframe\">\n",
       "  <thead>\n",
       "    <tr style=\"text-align: right;\">\n",
       "      <th></th>\n",
       "      <th>Interpolacion</th>\n",
       "      <th>Sol Analitica</th>\n",
       "    </tr>\n",
       "  </thead>\n",
       "  <tbody>\n",
       "    <tr>\n",
       "      <th>195</th>\n",
       "      <td>6744.99999999992</td>\n",
       "      <td>6958.271558</td>\n",
       "    </tr>\n",
       "    <tr>\n",
       "      <th>196</th>\n",
       "      <td>6962.68799999992</td>\n",
       "      <td>7181.606783</td>\n",
       "    </tr>\n",
       "    <tr>\n",
       "      <th>197</th>\n",
       "      <td>7184.98399999992</td>\n",
       "      <td>7409.633008</td>\n",
       "    </tr>\n",
       "    <tr>\n",
       "      <th>198</th>\n",
       "      <td>7411.93599999992</td>\n",
       "      <td>7642.420951</td>\n",
       "    </tr>\n",
       "    <tr>\n",
       "      <th>199</th>\n",
       "      <td>7643.59199999991</td>\n",
       "      <td>7880.000270</td>\n",
       "    </tr>\n",
       "  </tbody>\n",
       "</table>\n",
       "</div>"
      ],
      "text/plain": [
       "        Interpolacion  Sol Analitica\n",
       "195  6744.99999999992    6958.271558\n",
       "196  6962.68799999992    7181.606783\n",
       "197  7184.98399999992    7409.633008\n",
       "198  7411.93599999992    7642.420951\n",
       "199  7643.59199999991    7880.000270"
      ]
     },
     "execution_count": 26,
     "metadata": {},
     "output_type": "execute_result"
    }
   ],
   "source": [
    "xReal = np.linspace(-10,10,200)\n",
    "\n",
    "#print estimacion_Lineal\n",
    "Fun_analitica = y(xReal)\n",
    "#Función Real Hermtite\n",
    "f = lambdify(x, RES)\n",
    "FA_200 = f(xReal)\n",
    "\n",
    "plt.plot(xReal, A_y_error, c=\"b\", label = \"Function Hermie with Error\")\n",
    "plt.plot(xReal,estimacion_Lineal, color = \"r\", label= \"Solucion Interpolacion Segmentaria lineal\")\n",
    "plt.legend(loc='best', bbox_to_anchor=(0.8, -0.1))\n",
    "plt.show()\n",
    "Tabla_results = pd.DataFrame({\"Sol Analitica\":A_y_error ,\"Interpolacion\": estimacion_Lineal})\n",
    "Tabla_results.tail()"
   ]
  },
  {
   "cell_type": "code",
   "execution_count": 27,
   "metadata": {
    "collapsed": false
   },
   "outputs": [
    {
     "name": "stdout",
     "output_type": "stream",
     "text": [
      "0.1 201 -10\n",
      "200 200\n"
     ]
    },
    {
     "data": {
      "image/png": "[encoded data removed]",
      "text/latex": [
       "$$1575524.8 x^{2} + 31355307.6 x + 155992716.0$$"
      ],
      "text/plain": [
       "           2                             \n",
       "1575524.8⋅x  + 31355307.6⋅x + 155992716.0"
      ]
     },
     "execution_count": 27,
     "metadata": {},
     "output_type": "execute_result"
    }
   ],
   "source": [
    "#SEGMENTARIA CUADRÁTICA\n",
    "a,b = -10.,10.\n",
    "ne = 200\n",
    "step=20./ne\n",
    "puntos = list(frange(-10, 10, step))\n",
    "#puntos = np.linspace(-10,10,201)\n",
    "print step,len(puntos),puntos[0]\n",
    "h = (b-a)/ne\n",
    "polinomiosC, estimacion_parabolica = fun_parabolica(ne,a,h,puntos)\n",
    "del puntos[-1]\n",
    "print len(estimacion_parabolica),len(puntos)\n",
    "outer = simplify(polinomiosC[0])\n",
    "outer"
   ]
  },
  {
   "cell_type": "code",
   "execution_count": 28,
   "metadata": {
    "collapsed": false
   },
   "outputs": [
    {
     "data": {
      "image/png": "[encoded data removed]",
      "text/plain": [
       "<matplotlib.figure.Figure at 0xa7f6c4ec>"
      ]
     },
     "metadata": {},
     "output_type": "display_data"
    },
    {
     "data": {
      "text/html": [
       "<div>\n",
       "<table border=\"1\" class=\"dataframe\">\n",
       "  <thead>\n",
       "    <tr style=\"text-align: right;\">\n",
       "      <th></th>\n",
       "      <th>Interpolacion</th>\n",
       "      <th>Sol Analitica</th>\n",
       "    </tr>\n",
       "  </thead>\n",
       "  <tbody>\n",
       "    <tr>\n",
       "      <th>195</th>\n",
       "      <td>6744.99999999992</td>\n",
       "      <td>6958.271558</td>\n",
       "    </tr>\n",
       "    <tr>\n",
       "      <th>196</th>\n",
       "      <td>6962.68799999992</td>\n",
       "      <td>7181.606783</td>\n",
       "    </tr>\n",
       "    <tr>\n",
       "      <th>197</th>\n",
       "      <td>7184.98399999992</td>\n",
       "      <td>7409.633008</td>\n",
       "    </tr>\n",
       "    <tr>\n",
       "      <th>198</th>\n",
       "      <td>7411.93599999992</td>\n",
       "      <td>7642.420951</td>\n",
       "    </tr>\n",
       "    <tr>\n",
       "      <th>199</th>\n",
       "      <td>7643.59199999991</td>\n",
       "      <td>7880.000270</td>\n",
       "    </tr>\n",
       "  </tbody>\n",
       "</table>\n",
       "</div>"
      ],
      "text/plain": [
       "        Interpolacion  Sol Analitica\n",
       "195  6744.99999999992    6958.271558\n",
       "196  6962.68799999992    7181.606783\n",
       "197  7184.98399999992    7409.633008\n",
       "198  7411.93599999992    7642.420951\n",
       "199  7643.59199999991    7880.000270"
      ]
     },
     "execution_count": 28,
     "metadata": {},
     "output_type": "execute_result"
    }
   ],
   "source": [
    "#print estimacion_Lineal\n",
    "xReal = np.linspace(-10,10,200)\n",
    "Fun_analitica = y(xReal)\n",
    "\n",
    "#Función Real Hermtite\n",
    "f = lambdify(x, RES)\n",
    "FA_200 = f(xReal)\n",
    "\n",
    "plt.plot(xReal, A_y_error, c=\"b\", label = \"Function Hermite Evaluate in each node\")\n",
    "plt.plot(puntos,estimacion_parabolica, color = \"r\", label= \"Solucion Interpolacion Segmentaria lineal\")\n",
    "plt.legend(loc='best', bbox_to_anchor=(0.8, -0.1))\n",
    "plt.show()\n",
    "Tabla_results = pd.DataFrame({\"Sol Analitica\":A_y_error ,\"Interpolacion\": estimacion_parabolica})\n",
    "Tabla_results.tail()"
   ]
  },
  {
   "cell_type": "markdown",
   "metadata": {},
   "source": [
    "### 1.6. <font color='red'>Realícese las tareas 1.4 y 1.5 con programas SPLINE-SEVAL.</font>"
   ]
  },
  {
   "cell_type": "markdown",
   "metadata": {},
   "source": [
    "En el siguiente [material](http://www.iaa.es/python/cientifico/scipy.pdf) se encuentra una información completa de cada función de python para métodos numéricos. para estas tareas las funciones de python utilizadas son:"
   ]
  },
  {
   "cell_type": "code",
   "execution_count": 29,
   "metadata": {
    "collapsed": false
   },
   "outputs": [
    {
     "data": {
      "text/plain": [
       "<matplotlib.legend.Legend at 0xa9ae108c>"
      ]
     },
     "execution_count": 29,
     "metadata": {},
     "output_type": "execute_result"
    },
    {
     "data": {
      "image/png": "[encoded data removed]",
      "text/plain": [
       "<matplotlib.figure.Figure at 0xa7f0374c>"
      ]
     },
     "metadata": {},
     "output_type": "display_data"
    }
   ],
   "source": [
    "xe = np.linspace(-10,10,200)\n",
    "xl = np.linspace(-10.,10.,11)\n",
    "f = lambdify(x, RES)\n",
    "yl = f(xl)\n",
    "\n",
    "freal = lambdify(x, RES)\n",
    "yreal = freal(xe)\n",
    "\n",
    "#numpy lineal\n",
    "yinterp_lineal = np.interp(xe, xl, yl)\n",
    "\n",
    "#mas ruido\n",
    "r = np.random.rand(len(xl))\n",
    "ruido = 0.01\n",
    "error = r*ruido\n",
    "yl_err = yl + error\n",
    "yinterp_lineal_error = np.interp(xe, xl, yl_err)\n",
    "\n",
    "plt.figure(figsize=(10,5))\n",
    "\n",
    "plt.subplot(1,2,1)\n",
    "plt.plot(xe,yinterp_lineal, color = \"g\", label= \"Python Interpolacion Lineal\")\n",
    "plt.plot(xe,yreal, color = \"r\", label= \"Funcion Hermite Original\")\n",
    "plt.legend(loc='upper center', bbox_to_anchor=(0.5, -0.1))\n",
    "\n",
    "plt.subplot(1,2,2)\n",
    "plt.plot(xe,yinterp_lineal_error, color = \"g\", label= \"Python Interpolacion Lineal + error\")\n",
    "plt.plot(xe,yreal, color = \"r\", label= \"Funcion Hermite Original\")\n",
    "plt.legend(loc='upper center', bbox_to_anchor=(0.5, -0.1))"
   ]
  },
  {
   "cell_type": "markdown",
   "metadata": {},
   "source": [
    "### 1.7. <font color='red'>Extiéndase programas para calcular los polinomios intepolantes en la base de algoritmos segmentarias lineal y parabólica para calcular las primeras derivadas y realícese las tareas 1.4 respecto la primera derivada.</font>"
   ]
  },
  {
   "cell_type": "markdown",
   "metadata": {},
   "source": [
    "Derivando con métodos numéricos y probar con método analítico [ayuda](https://en.wikipedia.org/wiki/Numerical_differentiation)"
   ]
  },
  {
   "cell_type": "code",
   "execution_count": 30,
   "metadata": {
    "collapsed": false
   },
   "outputs": [
    {
     "name": "stdout",
     "output_type": "stream",
     "text": [
      "Original function:\n"
     ]
    },
    {
     "data": {
      "image/png": "[encoded data removed]",
      "text/latex": [
       "$$x \\left(8.0 x^{2} - 12.0\\right)$$"
      ],
      "text/plain": [
       "  ⎛     2       ⎞\n",
       "x⋅⎝8.0⋅x  - 12.0⎠"
      ]
     },
     "execution_count": 30,
     "metadata": {},
     "output_type": "execute_result"
    }
   ],
   "source": [
    "print \"Original function:\"\n",
    "nueva = simplify(RES)\n",
    "nueva"
   ]
  },
  {
   "cell_type": "code",
   "execution_count": 31,
   "metadata": {
    "collapsed": false
   },
   "outputs": [
    {
     "name": "stdout",
     "output_type": "stream",
     "text": [
      "Derivative with SYMPY\n"
     ]
    },
    {
     "data": {
      "image/png": "[encoded data removed]",
      "text/latex": [
       "$$24.0 x^{2} - 12.0$$"
      ],
      "text/plain": [
       "      2       \n",
       "24.0⋅x  - 12.0"
      ]
     },
     "execution_count": 31,
     "metadata": {},
     "output_type": "execute_result"
    }
   ],
   "source": [
    "print \"Derivative with SYMPY\"\n",
    "Derivada = diff(RES,x)\n",
    "Derivada"
   ]
  },
  {
   "cell_type": "markdown",
   "metadata": {
    "collapsed": false
   },
   "source": [
    "Relacion de recurrencia para derivada de Hermite\n",
    "![img](https://s0.wp.com/latex.php?latex=%5Cbegin%7Baligned%7D%5Cfrac%7Bd%7D%7Bdx%7D+H_n%28x%29%3D2+n+H_%7Bn-1%7D%28x%29.%5Cend%7Baligned%7D+%5Chspace%7B%5Cstretch%7B1%7D%7D%282.2%29&bg=fafcff&fg=2a2a2a&s=0)\n",
    "[ayuda](https://peeterjoot.wordpress.com/2012/01/03/derivative-recurrence-relation-for-hermite-polynomials/)"
   ]
  },
  {
   "cell_type": "code",
   "execution_count": 32,
   "metadata": {
    "collapsed": false
   },
   "outputs": [
    {
     "data": {
      "image/png": "[encoded data removed]",
      "text/latex": [
       "$$24.0 x^{2} - 12.0$$"
      ],
      "text/plain": [
       "      2       \n",
       "24.0⋅x  - 12.0"
      ]
     },
     "execution_count": 32,
     "metadata": {},
     "output_type": "execute_result"
    }
   ],
   "source": [
    "def Diff_Hermite(n):\n",
    "    return 2*n*PolHermite(n-1)\n",
    "DiffHermite = Diff_Hermite(3)\n",
    "DiffHermite"
   ]
  },
  {
   "cell_type": "code",
   "execution_count": 33,
   "metadata": {
    "collapsed": false
   },
   "outputs": [
    {
     "data": {
      "text/plain": [
       "<matplotlib.legend.Legend at 0xa7ca41ec>"
      ]
     },
     "execution_count": 33,
     "metadata": {},
     "output_type": "execute_result"
    },
    {
     "data": {
      "image/png": "[encoded data removed]",
      "text/plain": [
       "<matplotlib.figure.Figure at 0xa7e5528c>"
      ]
     },
     "metadata": {},
     "output_type": "display_data"
    }
   ],
   "source": [
    "xe = np.linspace(-10,10,200)\n",
    "f = lambdify(x, RES)\n",
    "yl = f(xe)\n",
    "fd = lambdify(x, DiffHermite)\n",
    "yd = fd(xe)\n",
    "\n",
    "plt.figure(figsize=(10,5))\n",
    "\n",
    "plt.subplot(1,2,1)\n",
    "plt.plot(xe,yl, color = \"r\", label= \"Funcion Hermite\")\n",
    "plt.legend(loc='upper center', bbox_to_anchor=(0.5, -0.1))\n",
    "\n",
    "plt.subplot(1,2,2)\n",
    "plt.plot(xe,yd, color = \"g\", label= \"Funcion Derivada Hermite\")\n",
    "plt.legend(loc='upper center', bbox_to_anchor=(0.5, -0.1))\n",
    "\n"
   ]
  },
  {
   "cell_type": "markdown",
   "metadata": {},
   "source": [
    "### 1.8. <font color='red'>Realícese las tareas 1.4 y 1.5 primera y segunda derivada con programas SPLINE-SEVAL.</font>"
   ]
  },
  {
   "cell_type": "code",
   "execution_count": 34,
   "metadata": {
    "collapsed": false
   },
   "outputs": [
    {
     "data": {
      "text/plain": [
       "<matplotlib.legend.Legend at 0xa7d3e7ec>"
      ]
     },
     "execution_count": 34,
     "metadata": {},
     "output_type": "execute_result"
    },
    {
     "data": {
      "image/png": "[encoded data removed]",
      "text/plain": [
       "<matplotlib.figure.Figure at 0xa7e2e20c>"
      ]
     },
     "metadata": {},
     "output_type": "display_data"
    }
   ],
   "source": [
    "#Primera derivada usando splines\n",
    "\n",
    "a,b=-10,10\n",
    "dPn = DiffHermite #primera derivada\n",
    "df = lambdify(x, dPn)\n",
    "xl = np.linspace(a,b,11)\n",
    "yl = df(xl)\n",
    "spl = UnivariateSpline(xl, yl)\n",
    "yinterp_splines = spl(xe)\n",
    "yreal = df(xe)\n",
    "#mas ruido\n",
    "r = np.random.rand(len(xl))\n",
    "ruido = 0.01\n",
    "error = r*ruido\n",
    "yl_err = yl + error\n",
    "spl_err = UnivariateSpline(xl, yl_err)\n",
    "yinterp_splines_err = spl_err(xe)\n",
    "\n",
    "xd = np.linspace(-10,10,11)\n",
    "y = lambdify(x,DiffHermite,'numpy')#Funcion Hermite\n",
    "fun_Analitycal = y(xd)#Evalua la funcion en los nodos equidistantes, obtengo los puntos que debería tener.\n",
    "\n",
    "\n",
    "plt.figure(figsize=(10,5))\n",
    "\n",
    "plt.subplot(1,2,1)\n",
    "plt.plot(xe,yinterp_splines, color = \"r\", label= \"Funcion Hermite - Python Spline\")\n",
    "plt.scatter(xd, fun_Analitycal, c=\"blue\", label = \"Function Derivada Hermite\",s=35)\n",
    "plt.legend(loc='upper center', bbox_to_anchor=(0.5, -0.1))\n",
    "\n",
    "plt.subplot(1,2,2)\n",
    "plt.plot(xe,yinterp_splines_err, color = \"r\", label= \"Funcion Hermite - Python Spline + error\")\n",
    "plt.scatter(xd, fun_Analitycal, c=\"blue\", label = \"Function Derivada Hermite\",s=35)\n",
    "plt.legend(loc='upper center', bbox_to_anchor=(0.5, -0.1))"
   ]
  },
  {
   "cell_type": "code",
   "execution_count": 35,
   "metadata": {
    "collapsed": false
   },
   "outputs": [
    {
     "data": {
      "text/plain": [
       "<matplotlib.legend.Legend at 0xa7967cec>"
      ]
     },
     "execution_count": 35,
     "metadata": {},
     "output_type": "execute_result"
    },
    {
     "data": {
      "image/png": "[encoded data removed]",
      "text/plain": [
       "<matplotlib.figure.Figure at 0xa7e1aa6c>"
      ]
     },
     "metadata": {},
     "output_type": "display_data"
    }
   ],
   "source": [
    "#Segunda derivada usando splines\n",
    "a,b=-10,10\n",
    "\n",
    "d2Pn = DiffHermite.diff(x) # segunda derivada\n",
    "d2f = lambdify(x, d2Pn)\n",
    "xl2 = np.linspace(a,b,11)\n",
    "yl2 = d2f(xl)\n",
    "\n",
    "spl = UnivariateSpline(xl2, yl2)\n",
    "yinterp_splines = spl(xe)\n",
    "yreal = d2f(xe)\n",
    "#mas ruido\n",
    "r = np.random.rand(len(xl2))\n",
    "ruido = 0.01\n",
    "error = r*ruido\n",
    "yl2_err = yl2 + error\n",
    "spl_err = UnivariateSpline(xl2, yl2_err)\n",
    "yinterp_splines_err = spl_err(xe)\n",
    "\n",
    "xd = np.linspace(-10,10,11)\n",
    "y = lambdify(x,DiffHermite.diff(x),'numpy')#Funcion Hermite\n",
    "fun_Analitycal = y(xd)#Evalua la funcion en los nodos equidistantes, obtengo los puntos que debería tener.\n",
    "\n",
    "#graficas\n",
    "\n",
    "plt.figure(figsize=(10,5))\n",
    "\n",
    "plt.subplot(1,2,1)\n",
    "plt.plot(xe,yinterp_splines, color = \"r\", label= \"Funcion Hermite - Python Spline\")\n",
    "plt.scatter(xd, fun_Analitycal, c=\"blue\", label = \"Function Derivada Hermite\",s=35)\n",
    "plt.legend(loc='upper center', bbox_to_anchor=(0.5, -0.1))\n",
    "\n",
    "plt.subplot(1,2,2)\n",
    "plt.plot(xe,yinterp_splines_err, color = \"r\", label= \"Funcion Hermite - Python Spline + error\")\n",
    "plt.scatter(xd, fun_Analitycal, c=\"blue\", label = \"Function Derivada Hermite\",s=35)\n",
    "plt.legend(loc='upper center', bbox_to_anchor=(0.5, -0.1))"
   ]
  },
  {
   "cell_type": "markdown",
   "metadata": {},
   "source": [
    "# TAREA 2"
   ]
  },
  {
   "cell_type": "markdown",
   "metadata": {},
   "source": [
    "### 1.1. <font color='red'>Dentro del intervalo de definición de su polinomio calcúleselos valores de los integrales</font> <font color='blue'>$I_n^{(m)} = \\int_{a}^{b} w(x)P_n(x)P_{n+m}(x)dx$ para $n = \\bar{1.5}$ y $m=\\bar{0,5}$</font><font color='red'>, usando cuadraturas de trapecios, de Simpson y de Gauss con selección de paso de integración automático en la base del algoritmo de Runge.</font>"
   ]
  },
  {
   "cell_type": "code",
   "execution_count": 36,
   "metadata": {
    "collapsed": false
   },
   "outputs": [
    {
     "name": "stdout",
     "output_type": "stream",
     "text": [
      "Symbolic solution:\n"
     ]
    },
    {
     "data": {
      "image/png": "[encoded data removed]",
      "text/latex": [
       "$$112.0$$"
      ],
      "text/plain": [
       "112.000000000000"
      ]
     },
     "execution_count": 36,
     "metadata": {},
     "output_type": "execute_result"
    }
   ],
   "source": [
    "print \"Symbolic solution:\"\n",
    "lim_a,lim_b = 1.,3.\n",
    "Sym_Integral = integrate(RES,(x,lim_a,lim_b))\n",
    "Sym_Integral"
   ]
  },
  {
   "cell_type": "markdown",
   "metadata": {},
   "source": [
    "### Metodo del <font color='red'>trapecio</font>\n",
    "En análisis numérico la regla del trapecio es un método de integración, es decir, un método para calcular aproximadamente el valor de una integral definida. La regla se basa en aproximar el valor de la integral de $\\displaystyle f(x)$ f(x) por el de la función lineal, que pasa a través de los puntos $\\displaystyle (a,f(a))$ $\\displaystyle (a,f(a))$ y $\\displaystyle (b,f(b))$ $\\displaystyle (b,f(b))$. La integral de ésta es igual al área del trapecio bajo la gráfica de la función lineal. [ayuda](https://es.wikipedia.org/wiki/Regla_del_trapecio)"
   ]
  },
  {
   "cell_type": "code",
   "execution_count": 37,
   "metadata": {
    "collapsed": false
   },
   "outputs": [],
   "source": [
    "def integral_trapecios(f,a,b,n):\n",
    "    area = 0 # area bajo la curva\n",
    "    h = (b-a)/n\n",
    "    X = [a]\n",
    "    Y = [f.subs(x,a)]\n",
    "    for i in range(n): # cada segmento\n",
    "        xi = a + h*i #x0 y x1\n",
    "        xi1 = a+ h*(i+1)\n",
    "        yi,yi1 = f.subs(x,xi),f.subs(x,xi1)\n",
    "        area_trap = (h/2.)*(yi+yi1)\n",
    "        area += area_trap\n",
    "        X.append(xi1)\n",
    "        Y.append(yi1)\n",
    "    return area,X,Y"
   ]
  },
  {
   "cell_type": "code",
   "execution_count": 38,
   "metadata": {
    "collapsed": false
   },
   "outputs": [
    {
     "name": "stdout",
     "output_type": "stream",
     "text": [
      "Metodo de trapecios:  119.111111111111\n",
      "Diferencia:  -7.11111111111106\n"
     ]
    },
    {
     "data": {
      "image/png": "[encoded data removed]",
      "text/plain": [
       "<matplotlib.figure.Figure at 0xa7f725cc>"
      ]
     },
     "metadata": {},
     "output_type": "display_data"
    }
   ],
   "source": [
    "n_integral = 3\n",
    "Trapecio, X, Y = integral_trapecios(RES,lim_a,lim_b,n_integral)\n",
    "print \"Metodo de trapecios: \",Trapecio\n",
    "print \"Diferencia: \",Sym_Integral-Trapecio\n",
    "\n",
    "xe = np.linspace(lim_a,lim_b,100)\n",
    "y = lambdify(x,RES,'numpy')#Funcion Hermite\n",
    "Ay = y(xe)#Evalua la funcion en los nodos equidistantes, obtengo los puntos que debería tener.\n",
    "\n",
    "plt.plot(X, Y, c=\"b\", label = \"Trapecio\",lw=7,alpha=0.4)\n",
    "plt.plot(xe,Ay, color = \"r\", label= \"Hermite\")\n",
    "plt.legend(loc='best', bbox_to_anchor=(0.8, -0.1))\n",
    "plt.show()"
   ]
  },
  {
   "cell_type": "markdown",
   "metadata": {},
   "source": [
    "### Metodo del <font color='red'>Simpson</font>\n",
    "En integración numérica, una forma de aproximar una integral definida en un intervalo $[a,b]$ es mediante la regla del trapecio, es decir, que sobre cada subintervalo en el que se divide $[a,b]$ se aproxima f por un polinomio de primer grado, para luego calcular la integral como suma de las áreas de los trapecios formados en esos subintervalos . El método utilizado para la regla de Simpson sigue la misma filosofía, pero aproximando los subintervalos de f mediante polinomios de segundo grado.\n",
    "\n",
    "En el caso de que el intervalo [a,b] no sea lo suficientemente pequeño, el error al calcular la integral puede ser muy grande. Para ello, se recurre a la fórmula compuesta de Simpson. Se divide el intervalo [a,b] en n subintervalos iguales (con n par), de manera que $\\displaystyle x_{i}=a+ih$ $\\displaystyle x_{i}=a+ih$, donde $\\displaystyle h=(b-a)/n$ $\\displaystyle h=(b-a)/n$ para $\\displaystyle i=0,1,...,n$ $\\displaystyle i=0,1,...,n$.\n",
    "\n",
    "![img](https://wikimedia.org/api/rest_v1/media/math/render/svg/7fd2b03035b6497c2f6197a628a2d358d8685b2d)"
   ]
  },
  {
   "cell_type": "code",
   "execution_count": 39,
   "metadata": {
    "collapsed": true
   },
   "outputs": [],
   "source": [
    "def integral_simpson(f,a,b,n):\n",
    "    print \"Método Simpson General: \", ((b-a)/6.)*(f.subs(x,a)+(4*f.subs(x,(a+b/2.)))+f.subs(x,b))\n",
    "    suma = 0 \n",
    "    h = (b-a)/n\n",
    "    Xs = []\n",
    "    for i in range(1,n): # terminos del medio\n",
    "        xi = a + h*(i) #x0 y x1\n",
    "        if i%2 == 0: #es par?\n",
    "            suma+=2*f.subs(x,xi)\n",
    "        else:\n",
    "            suma+=4*f.subs(x,xi)\n",
    "        #print \"xi:\",xi,\"suma:\",suma,\"h:\",h\n",
    "        Xs.append(xi)\n",
    "    suma = (h/3.)*(f.subs(x,a)+suma+f.subs(x,b))\n",
    "    \n",
    "    return Xs,suma"
   ]
  },
  {
   "cell_type": "code",
   "execution_count": 40,
   "metadata": {
    "collapsed": false
   },
   "outputs": [
    {
     "name": "stdout",
     "output_type": "stream",
     "text": [
      "Método Simpson General:  185.333333333333\n",
      "Metodo de Simpson 1/3:  112.000000000000\n"
     ]
    },
    {
     "data": {
      "image/png": "[encoded data removed]",
      "text/plain": [
       "<matplotlib.figure.Figure at 0xa77a0fac>"
      ]
     },
     "metadata": {},
     "output_type": "display_data"
    }
   ],
   "source": [
    "Xs,integralSimpson = integral_simpson(RES,lim_a, lim_b, 6)\n",
    "print \"Metodo de Simpson 1/3: \",integralSimpson\n",
    "\n",
    "Xs =np.array(Xs)\n",
    "y = lambdify(x,RES,'numpy')#Funcion Hermite\n",
    "At = y(Xs)#Evalua la funcion en los nodos equidistantes, obtengo los puntos que debería tener.\n",
    "\n",
    "\n",
    "plt.plot(Xs, At, c=\"b\", label = \"Simpson 1/3\",lw=7,alpha=0.4)\n",
    "plt.plot(xe,Ay, color = \"r\", label= \"Hermite\")\n",
    "plt.legend(loc='best', bbox_to_anchor=(0.8, -0.1))\n",
    "plt.show()"
   ]
  },
  {
   "cell_type": "markdown",
   "metadata": {},
   "source": [
    "### Metodo de <font color='red'>Gauss</font>\n",
    "En análisis numérico un método de cuadratura es una aproximación de una integral definida de una función. Una cuadratura de Gauss n, es una cuadratura que selecciona los puntos de la evaluación de manera óptima y no en una forma igualmente espaciada, construida para dar el resultado de un polinomio de grado 2n-1 o menos, elegibles para los puntos xi y los coeficientes wi para i=1,...,n. El dominio de tal cuadratura por regla es de [−1, 1]dada por: \n",
    "![img](https://wikimedia.org/api/rest_v1/media/math/render/svg/f779c2c2b743529c71bda0dfa8386c721739271e) tal cuadratura dará resultados precisos solo si f(x) es aproximado por un polinomio dentro del rango $[−1, 1]$. Si la función puede ser escrita como $f(x)=W(x)g(x)$, donde $g(x)$ es un polinomio aproximado y $W(x)$ es conocido \n",
    "![img](https://wikimedia.org/api/rest_v1/media/math/render/svg/c207ab2e2c3ce1c2802deefa49feff2db9de56bc)\n",
    "Los cambios de intervalos van de [−1, 1] después de aplicar la cuadratura de Gauss:\n",
    "![img](https://wikimedia.org/api/rest_v1/media/math/render/svg/3319c1ad08a87ce212be3d6ddf2d76ad4d22f08b)\n",
    "Después de aplicar la cuadratura la aproximación es:\n",
    "![img](https://wikimedia.org/api/rest_v1/media/math/render/svg/dc484aab3e9008b93fedc3f24773a06db8e29667)\n",
    "\n",
    "[ayuda](https://es.wikipedia.org/wiki/Cuadratura_de_Gauss)"
   ]
  },
  {
   "cell_type": "code",
   "execution_count": 41,
   "metadata": {
    "collapsed": true
   },
   "outputs": [],
   "source": [
    "def legendre_rodrigues(n):\n",
    "    suma = 0\n",
    "    x = symbols('x')\n",
    "    polinomio = 0 \n",
    "    for k in range(n+1):\n",
    "        tmp = (comb(n,k)**2)*((x+1.)**(n-k))*(x-1.)**k\n",
    "        suma = suma+tmp\n",
    "    p = (1.0/(2.**n))*suma\n",
    "    return p\n",
    "\n",
    "def cuadratura_gauss(a,b,n,f):\n",
    "    #Obtengo los 0's del polinomio de legendre con formula de rodrigues\n",
    "    x = Symbol('x')\n",
    "    zeros = solve(legendre_rodrigues(n),x) #Pn tiene n 0's\n",
    "    #0's son mis xi (nodos) y los puedo elevar a un numero, ahora es un sistema lineal :D\n",
    "    #Derivada del polinomio\n",
    "    DPn = diff(legendre_rodrigues(n)) \n",
    "    integ = 0\n",
    "    #Despejo coeficientes Wi\n",
    "    \n",
    "    w = []\n",
    "    \n",
    "    for xi in zeros:\n",
    "        wi = 2./((1.-xi**2)*(DPn.evalf(subs={x:xi}))**2)\n",
    "        w.append(wi)\n",
    "    #print w \n",
    "    # integral de f = sum (wi f(xi))\n",
    "    # Cambio de variables para integrar en (a,b)\n",
    "    integ = 0\n",
    "    for k in range(0,n):\n",
    "        xk = zeros[k]\n",
    "        integ += w[k]*f.subs(x,((b+a)/2. + (b-a)*(float(xk)/2.)))\n",
    "    \n",
    "    integ = ((b-a)/2.)*integ\n",
    "    for i in range(n):\n",
    "        print \"W\"+str(i)+\": \",w[k],\" x\"+str(i)+\" :\",zeros[i]\n",
    "    return integ"
   ]
  },
  {
   "cell_type": "code",
   "execution_count": 42,
   "metadata": {
    "collapsed": false
   },
   "outputs": [
    {
     "name": "stdout",
     "output_type": "stream",
     "text": [
      "W0:  0.555555555555555  x0 : -0.774596669241483\n",
      "W1:  0.555555555555555  x1 : 0.0\n",
      "W2:  0.555555555555555  x2 : 0.774596669241483\n",
      "CPU times: user 148 ms, sys: 0 ns, total: 148 ms\n",
      "Wall time: 147 ms\n",
      "Integral por Gauss:  112.000000000000\n",
      "Diferencia:  1.42108547152020e-14\n"
     ]
    }
   ],
   "source": [
    "%time valor = cuadratura_gauss(lim_a, lim_b, 3, RES)\n",
    "print \"Integral por Gauss: \", valor\n",
    "print \"Diferencia: \", (Sym_Integral - valor)"
   ]
  },
  {
   "cell_type": "markdown",
   "metadata": {},
   "source": [
    "### 1.2. <font color='red'>Realícese las tareas 1.1 con programa QUANC8.</font>"
   ]
  },
  {
   "cell_type": "markdown",
   "metadata": {
    "collapsed": true
   },
   "source": [
    "El sub-paquete scipy.integrate ofrece varias técnicas de integración, incluyendo un diferencial ordinaria integrador ecuación. Una visión general del módulo es proporcionado por el comando de ayuda:\n",
    "[ayuda](https://docs.scipy.org/doc/scipy/reference/tutorial/integrate.html)"
   ]
  },
  {
   "cell_type": "code",
   "execution_count": null,
   "metadata": {
    "collapsed": false
   },
   "outputs": [],
   "source": [
    "'''quad          -- General purpose integration.\n",
    "   dblquad       -- General purpose double integration.\n",
    "   tplquad       -- General purpose triple integration.\n",
    "   fixed_quad    -- Integrate func(x) using Gaussian quadrature of order n.\n",
    "   quadrature    -- Integrate with given tolerance using Gaussian quadrature.\n",
    "   romberg       -- Integrate func using Romberg integration.\n",
    "\n",
    " Methods for Integrating Functions given fixed samples.\n",
    "\n",
    "   trapz         -- Use trapezoidal rule to compute integral from samples.\n",
    "   cumtrapz      -- Use trapezoidal rule to cumulatively compute integral.\n",
    "   simps         -- Use Simpson's rule to compute integral from samples.\n",
    "   romb          -- Use Romberg Integration to compute integral from\n",
    "                    (2**k + 1) evenly-spaced samples.\n",
    "\n",
    "   See the special module's orthogonal polynomials (special) for Gaussian\n",
    "      quadrature roots and weights for other weighting factors and regions.\n",
    "\n",
    " Interface to numerical integrators of ODE systems.\n",
    "\n",
    "   odeint        -- General integration of ordinary differential equations.\n",
    "   ode           -- Integrate ODE using VODE and ZVODE routines.'''"
   ]
  },
  {
   "cell_type": "code",
   "execution_count": 44,
   "metadata": {
    "collapsed": false
   },
   "outputs": [
    {
     "name": "stdout",
     "output_type": "stream",
     "text": [
      "CPU times: user 0 ns, sys: 0 ns, total: 0 ns\n",
      "Wall time: 50.1 µs\n",
      "Metodo numerico python scipy:  112.0\n"
     ]
    }
   ],
   "source": [
    "%time result0 = sci_integrate.quad(f,lim_a, lim_b)\n",
    "print \"Metodo numerico python scipy: \",result0[0]"
   ]
  },
  {
   "cell_type": "markdown",
   "metadata": {},
   "source": [
    "# TAREA 3"
   ]
  },
  {
   "cell_type": "markdown",
   "metadata": {},
   "source": [
    "### 1.1. <font color='red'>Elabórese el algoritmo de separación de ceros de su polinomio $P_n(x)$.</font>"
   ]
  },
  {
   "cell_type": "code",
   "execution_count": 45,
   "metadata": {
    "collapsed": true
   },
   "outputs": [],
   "source": [
    "timesTarea3 = [] #list of times Tarea 3"
   ]
  },
  {
   "cell_type": "code",
   "execution_count": 46,
   "metadata": {
    "collapsed": true
   },
   "outputs": [],
   "source": [
    "def separar(a,b,f,h):\n",
    "    nraices = 0\n",
    "    xi = a\n",
    "    xd = xi + h\n",
    "    yi, yd = f.subs(x,xi), f.subs(x,xd)\n",
    "    intervalos = []\n",
    "    while xd<b:\n",
    "        if yi*yd<0:\n",
    "            nraices +=1\n",
    "            intervalos.append([xi-h,xd-h,yi,yd])\n",
    "        xi, yi = xd, yd\n",
    "        xd, yd = xi+h,f.subs(x,xd)\n",
    "    return nraices, intervalos"
   ]
  },
  {
   "cell_type": "markdown",
   "metadata": {},
   "source": [
    "### 1.2. <font color='red'>Dentro del intervalo de definición de su polinomio encuéntrese los ceros de los polinomios $P_n(x),P_{n+1}(x),P_{n+2}(x)$ para $n = 5$ y $n =10$ usando los métodos de bisección y de Newton. Asegúrese que las raíces del polinomio $P_n(x)$ se ubican entre las raíces del polinomio $P_{n+1}(x)$ y las raíces del polinomio $P_{n+1}(x)$ se ubican entre las raíces del polinomio $p_{n+1}(x)$.</font>"
   ]
  },
  {
   "cell_type": "markdown",
   "metadata": {},
   "source": [
    "### Metodo de <font color='red'>Biseccion</font>"
   ]
  },
  {
   "cell_type": "code",
   "execution_count": 47,
   "metadata": {
    "collapsed": false
   },
   "outputs": [],
   "source": [
    "def biseccion(a, b, f, tol,maxiter):\n",
    "    c = (a+b)/2.\n",
    "    anch = b-a\n",
    "    raizB = 0\n",
    "    if f.subs(x,a)*f.subs(x,b)>=0:\n",
    "        print \"a,b: \",a,b\n",
    "        print \"fa,fb: \",f.subs(x,a), f.subs(x,b)\n",
    "        print \"La funcion debe tener diferente signo en a y b!\"\n",
    "        return \"no evaluable\", 0,0\n",
    "    else:\n",
    "        i = 0\n",
    "        while f.subs(x,c)!= 0 or anch<= tol: \n",
    "            i+=1 \n",
    "            fa,fc = f.subs(x,a),f.subs(x,c)\n",
    "            if fa*fc>0:\n",
    "                #print \"muevo izq\"\n",
    "                b = c\n",
    "            else:\n",
    "                #print \"muevo der\"\n",
    "                a = c\n",
    "            c = (a+b)/2.\n",
    "            anch = b - a\n",
    "            raizB = c\n",
    "            error = np.abs(b-a)\n",
    "            if maxiter is not None:\n",
    "                if i >= maxiter:\n",
    "                    break\n",
    "        return raizB, f.subs(x,raizB)"
   ]
  },
  {
   "cell_type": "code",
   "execution_count": 48,
   "metadata": {
    "collapsed": false
   },
   "outputs": [
    {
     "name": "stdout",
     "output_type": "stream",
     "text": [
      "\n",
      "Numero de raices encontradas fn:  3\n",
      "CPU times: user 228 ms, sys: 0 ns, total: 228 ms\n",
      "Wall time: 231 ms\n",
      "CPU times: user 272 ms, sys: 0 ns, total: 272 ms\n",
      "Wall time: 273 ms\n",
      "CPU times: user 276 ms, sys: 0 ns, total: 276 ms\n",
      "Wall time: 276 ms\n"
     ]
    },
    {
     "data": {
      "image/png": "[encoded data removed]",
      "text/plain": [
       "<matplotlib.figure.Figure at 0xa7ccc10c>"
      ]
     },
     "metadata": {},
     "output_type": "display_data"
    }
   ],
   "source": [
    "tol = 1e-5\n",
    "maxiter = 1e3\n",
    "\n",
    "startTime = time.time()\n",
    "fn = lambdify(x, RES)\n",
    "raicesBiseccion = []\n",
    "nraices, intervalos = separar(a,b,RES,0.01)\n",
    "print \"\\nNumero de raices encontradas fn: \", nraices\n",
    "\n",
    "for i in intervalos:\n",
    "    %time raiz, fraiz = biseccion(i[0] , i[1] , RES, tol,maxiter)\n",
    "    raicesBiseccion.append(raiz)\n",
    "finalTime = time.time()\n",
    "timesTarea3.append(finalTime-startTime)\n",
    "zeros = np.array(raicesBiseccion)\n",
    "xd = np.linspace(-2,2,1000)\n",
    "y = lambdify(x,RES,'numpy')#Funcion Hermite\n",
    "fun_Analitycal = y(xd)#Evalua la funcion en los nodos equidistantes, obtengo los puntos que debería tener.\n",
    "yz = y(zeros)\n",
    "\n",
    "plt.plot(xd, fun_Analitycal, c=\"blue\", label = \"Function Hermite Evaluate in each node\")\n",
    "plt.scatter(zeros,yz,c=\"r\",s=35,label=\"zeros in function Hermite\")\n",
    "plt.legend(loc='best', bbox_to_anchor=(0.8, -0.1))\n",
    "plt.show()\n"
   ]
  },
  {
   "cell_type": "markdown",
   "metadata": {},
   "source": [
    "### Metodo de <font color='red'>Newton Rapson</font>"
   ]
  },
  {
   "cell_type": "markdown",
   "metadata": {},
   "source": [
    "La convergencia habitual de Newton-Raphson depende de la función que tiene un derivado distinto de cero en la raíz.\n",
    "Si hay una raíz múltiple, entonces la derivada en la raíz es 0 y esto no se sostiene más. En el mejor de los casos la raíz es una raíz doble, y la función se ve localmente como una parábola de tocar el xx-eje cerca de la raíz. A continuación, el error se reduce a la mitad para cada iteración de la aproximación, más que al cuadrado, y el número de iteraciones que necesita es proporcional al número de dígitos correctos que desea encontrar. (Para raíces individuales, el número de iteraciones es proporcional a desea el logaritmo del número de dígitos correctos)."
   ]
  },
  {
   "cell_type": "code",
   "execution_count": 49,
   "metadata": {
    "collapsed": false
   },
   "outputs": [],
   "source": [
    "def newton_raphson(a,tol):\n",
    "    xn = a\n",
    "    f = RES.subs(x, xn)\n",
    "    df = Derivada.subs(x,xn) \n",
    "    i = 0\n",
    "    while np.abs(f-0)>tol:\n",
    "        xn = xn-f/df\n",
    "        f = RES.subs(x,xn)\n",
    "        df = Derivada.subs(x,xn)\n",
    "        i+=1\n",
    "    print \"Raiz en: \",xn\n",
    "    print \"f(x): \",f\n",
    "    return xn, f"
   ]
  },
  {
   "cell_type": "code",
   "execution_count": 50,
   "metadata": {
    "collapsed": false
   },
   "outputs": [
    {
     "name": "stdout",
     "output_type": "stream",
     "text": [
      "Raiz en:  -1.22474487236280\n",
      "f(x):  -2.33091821399967e-8\n",
      "CPU times: user 20 ms, sys: 0 ns, total: 20 ms\n",
      "Wall time: 18.5 ms\n"
     ]
    }
   ],
   "source": [
    "a,b=-20,20\n",
    "startTime = time.time()\n",
    "%time raiz, f = newton_raphson(-20,tol=1e-7)\n",
    "finalTime = time.time()\n",
    "timesTarea3.append(finalTime-startTime)"
   ]
  },
  {
   "cell_type": "code",
   "execution_count": 51,
   "metadata": {
    "collapsed": false
   },
   "outputs": [
    {
     "data": {
      "image/png": "[encoded data removed]",
      "text/plain": [
       "<matplotlib.figure.Figure at 0xa7d6488c>"
      ]
     },
     "metadata": {},
     "output_type": "display_data"
    }
   ],
   "source": [
    "zeros = np.array(zeros)\n",
    "xd = np.linspace(-2,2,1000)\n",
    "y = lambdify(x,RES,'numpy')#Funcion Hermite\n",
    "fun_Analitycal = y(xd)#Evalua la funcion en los nodos equidistantes, obtengo los puntos que debería tener.\n",
    "yz = y(zeros)\n",
    "\n",
    "plt.plot(xd, fun_Analitycal, c=\"blue\", label = \"Function Hermite Evaluate in each node\")\n",
    "plt.scatter(raiz,f,c=\"r\",s=35,label=\"zeros in function Hermite\")\n",
    "plt.legend(loc='best', bbox_to_anchor=(0.8, -0.1))\n",
    "plt.show()"
   ]
  },
  {
   "cell_type": "markdown",
   "metadata": {},
   "source": [
    "### 1.3. <font color='red'>Realícese la tarea 1.2 con programa ZEROIN o FZERO.</font>"
   ]
  },
  {
   "cell_type": "markdown",
   "metadata": {},
   "source": [
    "Para <font color='blue'>Python</font>,la función <b>Solve</b> de la librería <b>Sympy</b>, los parametros que recibe es la función simbólica y el eje en el cual hace los cortes. [ayuda](https://docs.scipy.org/doc/numpy/reference/generated/numpy.linalg.solve.html)"
   ]
  },
  {
   "cell_type": "code",
   "execution_count": 52,
   "metadata": {
    "collapsed": false
   },
   "outputs": [
    {
     "name": "stdout",
     "output_type": "stream",
     "text": [
      "CPU times: user 36 ms, sys: 0 ns, total: 36 ms\n",
      "Wall time: 37.3 ms\n",
      "ceros en mi polinomio Hermite: \n"
     ]
    },
    {
     "data": {
      "image/png": "[encoded data removed]",
      "text/latex": [
       "$$\\left [ -1.22474487139159, \\quad 0.0, \\quad 1.22474487139159\\right ]$$"
      ],
      "text/plain": [
       "[-1.22474487139159, 0.0, 1.22474487139159]"
      ]
     },
     "execution_count": 52,
     "metadata": {},
     "output_type": "execute_result"
    }
   ],
   "source": [
    "startTime = time.time()\n",
    "%time zeros = solve(RES,x)\n",
    "finalTime = time.time()\n",
    "timesTarea3.append(finalTime-startTime)\n",
    "print \"ceros en mi polinomio Hermite: \"\n",
    "zeros"
   ]
  },
  {
   "cell_type": "code",
   "execution_count": 53,
   "metadata": {
    "collapsed": false
   },
   "outputs": [
    {
     "data": {
      "image/png": "[encoded data removed]",
      "text/plain": [
       "<matplotlib.figure.Figure at 0xa7760ccc>"
      ]
     },
     "metadata": {},
     "output_type": "display_data"
    }
   ],
   "source": [
    "zeros = np.array(zeros)\n",
    "xd = np.linspace(-2,2,1000)\n",
    "y = lambdify(x,RES,'numpy')#Funcion Hermite\n",
    "fun_Analitycal = y(xd)#Evalua la funcion en los nodos equidistantes, obtengo los puntos que debería tener.\n",
    "yz = y(zeros)\n",
    "\n",
    "plt.plot(xd, fun_Analitycal, c=\"blue\", label = \"Function Hermite Evaluate in each node\")\n",
    "plt.scatter(zeros,yz,c=\"r\",s=35,label=\"zeros in function Hermite\")\n",
    "plt.legend(loc='best', bbox_to_anchor=(0.8, -0.1))\n",
    "plt.show()"
   ]
  },
  {
   "cell_type": "markdown",
   "metadata": {},
   "source": [
    "### 1.4. <font color='red'>Presente el análisis comparativo de los resultados obtenidos en los puntos 1.2 y 1.3.</font>"
   ]
  },
  {
   "cell_type": "code",
   "execution_count": 54,
   "metadata": {
    "collapsed": false
   },
   "outputs": [
    {
     "name": "stdout",
     "output_type": "stream",
     "text": [
      "Biseccion - Newton Rapson - Solve_Python [3.1280601024627686, 0.02031397819519043, 0.038902997970581055]\n"
     ]
    }
   ],
   "source": [
    "x = range(len(timesTarea3))\n",
    "y = timesTarea3\n",
    "print \"Biseccion - Newton Rapson - Solve_Python\",y"
   ]
  },
  {
   "cell_type": "code",
   "execution_count": 55,
   "metadata": {
    "collapsed": false
   },
   "outputs": [
    {
     "data": {
      "text/plain": [
       "<matplotlib.text.Text at 0xa762b2ac>"
      ]
     },
     "execution_count": 55,
     "metadata": {},
     "output_type": "execute_result"
    },
    {
     "data": {
      "image/png": "[encoded data removed]",
      "text/plain": [
       "<matplotlib.figure.Figure at 0xa7954c2c>"
      ]
     },
     "metadata": {},
     "output_type": "display_data"
    }
   ],
   "source": [
    "plt.plot(x, y, color='green', linestyle='dashed', marker='o', markerfacecolor='blue', markersize=12)\n",
    "plt.xlabel('Biseccion     -     Newton Rapson     -      SolvePython')\n",
    "plt.ylabel('Tiempo [sec]')\n",
    "plt.title('Curva de tiempos comparativo')"
   ]
  },
  {
   "cell_type": "code",
   "execution_count": null,
   "metadata": {
    "collapsed": true
   },
   "outputs": [],
   "source": []
  },
  {
   "cell_type": "code",
   "execution_count": null,
   "metadata": {
    "collapsed": true
   },
   "outputs": [],
   "source": []
  }
 ],
 "metadata": {
  "kernelspec": {
   "display_name": "Python 2",
   "language": "python",
   "name": "python2"
  },
  "language_info": {
   "codemirror_mode": {
    "name": "ipython",
    "version": 2
   },
   "file_extension": ".py",
   "mimetype": "text/x-python",
   "name": "python",
   "nbconvert_exporter": "python",
   "pygments_lexer": "ipython2",
   "version": "2.7.12"
  }
 },
 "nbformat": 4,
 "nbformat_minor": 0
}
