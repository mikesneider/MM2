{
 "cells": [
  {
   "cell_type": "code",
   "execution_count": 16,
   "metadata": {
    "collapsed": false
   },
   "outputs": [],
   "source": [
    "import sympy as sym\n",
    "from sympy import *\n",
    "import numpy as np\n",
    "import matplotlib\n",
    "import copy\n",
    "matplotlib.use(\"Agg\")\n",
    "import matplotlib.pyplot as plt\n",
    "import matplotlib.animation as animation\n",
    "import sys\n",
    "import os\n",
    "from scipy.integrate import ode\n",
    "from IPython.display import HTML\n",
    "%matplotlib inline\n",
    "#init_printing(use_latex=True)\n",
    "init_printing(use_latex='mathjax')"
   ]
  },
  {
   "cell_type": "markdown",
   "metadata": {},
   "source": [
    "$2x_1 + x_2 -3x_3 = -1$\n",
    "\n",
    "$-x_1 + 3x_2 + 2x_3 = 12$\n",
    "\n",
    "$3x_3 + x_2 - 3x_3 = 0$"
   ]
  },
  {
   "cell_type": "markdown",
   "metadata": {},
   "source": [
    "$\\begin{bmatrix}\n",
    "2 & 1 & -3 & -1\\\\  \n",
    "-1 & 3 & 2 & 12\\\\ \n",
    "3 & 1 & -3 & 0 \n",
    "\\end{bmatrix}$"
   ]
  },
  {
   "cell_type": "markdown",
   "metadata": {},
   "source": [
    "$R2 = R2 - (\\frac{-1}2)R1$\n",
    "\n",
    "$R3 = R3 - (\\frac{3}2)R1$"
   ]
  },
  {
   "cell_type": "markdown",
   "metadata": {},
   "source": [
    "$\\begin{bmatrix}\n",
    "2 & 1 & -3 & -1\\\\ \n",
    "0 & 7/2 & 1/2 & 23/2\\\\ \n",
    "0 & 1/2 & 3/2 & 3/2 \n",
    "\\end{bmatrix}$"
   ]
  },
  {
   "cell_type": "markdown",
   "metadata": {},
   "source": [
    "$R3 = R3 - ( \\frac{-1}7 )R2$"
   ]
  },
  {
   "cell_type": "markdown",
   "metadata": {},
   "source": [
    "$\\begin{bmatrix}\n",
    "2 & 1 & -3 & -1\\\\ \n",
    "0 & 7/2 & 1/2 & 23/2\\\\ \n",
    "0 & 0 & 11/7 & 22/7 \n",
    "\\end{bmatrix}$"
   ]
  },
  {
   "cell_type": "code",
   "execution_count": 17,
   "metadata": {
    "collapsed": false
   },
   "outputs": [
    {
     "data": {
      "text/latex": [
       "$$\\left [ \\left [ 2.0, \\quad 1.0, \\quad -3.0, \\quad -1.0\\right ], \\quad \\left [ -1.0, \\quad 3.0, \\quad 2.0, \\quad 12.0\\right ], \\quad \\left [ 3.0, \\quad 1.0, \\quad -3.0, \\quad 0.0\\right ]\\right ]$$"
      ],
      "text/plain": [
       "[[2.0, 1.0, -3.0, -1.0], [-1.0, 3.0, 2.0, 12.0], [3.0, 1.0, -3.0, 0.0]]"
      ]
     },
     "execution_count": 17,
     "metadata": {},
     "output_type": "execute_result"
    }
   ],
   "source": [
    "#Defino la matriz\n",
    "MATRIZ = ([[2.,1.,-3.,-1.],[-1.,3.,2.,12.],[3.,1.,-3.,0.]])\n",
    "MATRIZ"
   ]
  },
  {
   "cell_type": "markdown",
   "metadata": {},
   "source": [
    "# Método de GAUSS (Hacia adelante)"
   ]
  },
  {
   "cell_type": "code",
   "execution_count": null,
   "metadata": {
    "collapsed": true
   },
   "outputs": [],
   "source": [
    "for (int k = 0; k < n - 1; k++) #sub-matriz\n",
    "    {\n",
    "        for (int i = k + 1; i < n; i++) #Fila\n",
    "        {\n",
    "            double factor = matriz[i, k] / matriz[k, k];\n",
    "\n",
    "            for (int j = k; j <= n; j++) #Columna\n",
    "            {\n",
    "                matriz[i, j] = matriz[i, j] - matriz[k, j] * factor;\n",
    "            }"
   ]
  },
  {
   "cell_type": "code",
   "execution_count": 18,
   "metadata": {
    "collapsed": false
   },
   "outputs": [],
   "source": [
    "import copy\n",
    "def gaussE(M,Tam_Matrix):\n",
    "    A=copy.deepcopy(M)\n",
    "    size = Tam_Matrix\n",
    "    print \"size \",size\n",
    "    for k in range (0,size-1):\n",
    "        print \"-------- \"\n",
    "        for i in range (k+1,size):\n",
    "            Mifactor = M[i][k]/M[k][k]\n",
    "            print \"Factor: \",M[i][k],\"/\",M[k][k]\n",
    "            for j in range (k,size+1):\n",
    "                M[i][j]= M[i][j]-(Mifactor)*M[k][j]\n",
    "                print \"M[\",i+1,\"][\",j+1,\"]: \",M[i][j]\n",
    "            #print \"A: \",A\n",
    "    return M"
   ]
  },
  {
   "cell_type": "code",
   "execution_count": 19,
   "metadata": {
    "collapsed": false
   },
   "outputs": [
    {
     "name": "stdout",
     "output_type": "stream",
     "text": [
      "size  3\n",
      "-------- \n",
      "Factor:  -1.0 / 2.0\n",
      "M[ 2 ][ 1 ]:  0.0\n",
      "M[ 2 ][ 2 ]:  3.5\n",
      "M[ 2 ][ 3 ]:  0.5\n",
      "M[ 2 ][ 4 ]:  11.5\n",
      "Factor:  3.0 / 2.0\n",
      "M[ 3 ][ 1 ]:  0.0\n",
      "M[ 3 ][ 2 ]:  -0.5\n",
      "M[ 3 ][ 3 ]:  1.5\n",
      "M[ 3 ][ 4 ]:  1.5\n",
      "-------- \n",
      "Factor:  -0.5 / 3.5\n",
      "M[ 3 ][ 2 ]:  0.0\n",
      "M[ 3 ][ 3 ]:  1.57142857143\n",
      "M[ 3 ][ 4 ]:  3.14285714286\n"
     ]
    }
   ],
   "source": [
    "A = gaussE(MATRIZ,len(MATRIZ))"
   ]
  },
  {
   "cell_type": "markdown",
   "metadata": {},
   "source": [
    "$\\begin{bmatrix}\n",
    "2 & 1 & -3 & -1\\\\ \n",
    "0 & 7/2 & 1/2 & 23/2\\\\ \n",
    "0 & 1/2 & 3/2 & 3/2 \n",
    "\\end{bmatrix}$"
   ]
  },
  {
   "cell_type": "markdown",
   "metadata": {},
   "source": [
    "$\\begin{bmatrix}\n",
    "2 & 1 & -3 & -1\\\\ \n",
    "0 & 7/2 & 1/2 & 23/2\\\\ \n",
    "0 & 0 & 11/7 & 22/7 \n",
    "\\end{bmatrix}$"
   ]
  },
  {
   "cell_type": "markdown",
   "metadata": {},
   "source": [
    "### $x_3 = \\frac{22}7 / \\frac{11}7 = 2$"
   ]
  },
  {
   "cell_type": "markdown",
   "metadata": {},
   "source": [
    "# Método de GAUSS (Hacia atrás)"
   ]
  },
  {
   "cell_type": "code",
   "execution_count": null,
   "metadata": {
    "collapsed": false
   },
   "outputs": [],
   "source": [
    "    resultado[n - 1] = matriz[n - 1, n] / matriz[n - 1, n - 1];\n",
    "\n",
    "    for (int f = n - 2; f >= 0; f--)\n",
    "    {\n",
    "        double sum = 0;\n",
    "\n",
    "        for (int i = n - 1; i > f; i--)\n",
    "        {\n",
    "            sum += matriz[f, i] * resultado[i];\n",
    "        }\n",
    "\n",
    "        resultado[f] = (matriz[f, n] - sum) / matriz[f, f];\n",
    "    }\n",
    "\n",
    "    return resultado;"
   ]
  },
  {
   "cell_type": "code",
   "execution_count": 20,
   "metadata": {
    "collapsed": true
   },
   "outputs": [],
   "source": [
    "def GaussHaciaAtras(M,n):\n",
    "    resultado = [0]*(n)\n",
    "    resultado[n-1] = M[n-1][n]/M[n-1][n-1]\n",
    "    print resultado[n-1],\"<= \",M[n-1][n],\"/\",M[n-1][n-1]\n",
    "    for k in range (n-2,-1,-1):\n",
    "        sum=0\n",
    "        for i in range (n-1,k,-1):\n",
    "            sum += M[k][i]*resultado[i]\n",
    "            print sum\n",
    "        resultado[k]=(M[k][n]-sum)/M[k][k]\n",
    "        print resultado[k],\"<=\",\"(\",M[k][n],\"-\",sum,\")/\",M[k][k]\n",
    "    return resultado"
   ]
  },
  {
   "cell_type": "code",
   "execution_count": 21,
   "metadata": {
    "collapsed": false
   },
   "outputs": [
    {
     "data": {
      "text/latex": [
       "$$\\left[\\begin{matrix}2.0 & 1.0 & -3.0 & -1.0\\\\0.0 & 3.5 & 0.5 & 11.5\\\\0.0 & 0.0 & 1.57142857142857 & 3.14285714285714\\end{matrix}\\right]$$"
      ],
      "text/plain": [
       "⎡2.0  1.0        -3.0              -1.0      ⎤\n",
       "⎢                                            ⎥\n",
       "⎢0.0  3.5        0.5               11.5      ⎥\n",
       "⎢                                            ⎥\n",
       "⎣0.0  0.0  1.57142857142857  3.14285714285714⎦"
      ]
     },
     "execution_count": 21,
     "metadata": {},
     "output_type": "execute_result"
    }
   ],
   "source": [
    "MA = copy.deepcopy(A)\n",
    "MA = Matrix(MA)\n",
    "MA"
   ]
  },
  {
   "cell_type": "code",
   "execution_count": 22,
   "metadata": {
    "collapsed": false
   },
   "outputs": [
    {
     "name": "stdout",
     "output_type": "stream",
     "text": [
      "2.0 <=  3.14285714286 / 1.57142857143\n",
      "1.0\n",
      "3.0 <= ( 11.5 - 1.0 )/ 3.5\n",
      "-6.0\n",
      "-3.0\n",
      "1.0 <= ( -1.0 - -3.0 )/ 2.0\n"
     ]
    },
    {
     "data": {
      "text/latex": [
       "$$\\left [ 1.0, \\quad 3.0, \\quad 2.0\\right ]$$"
      ],
      "text/plain": [
       "[1.0, 3.0, 2.0]"
      ]
     },
     "execution_count": 22,
     "metadata": {},
     "output_type": "execute_result"
    }
   ],
   "source": [
    "resul = GaussHaciaAtras(A,len(A))\n",
    "resul"
   ]
  },
  {
   "cell_type": "markdown",
   "metadata": {},
   "source": [
    "# Método de GAUSS-Jordan (Hacia atrás)"
   ]
  },
  {
   "cell_type": "code",
   "execution_count": null,
   "metadata": {
    "collapsed": true
   },
   "outputs": [],
   "source": [
    "private void GJ(ref double[,] matrix, int filas, int columnas)\n",
    "        {\n",
    "            for (int fpivot = 0; fpivot < filas; fpivot++)\n",
    "            {\n",
    "                double nor = matrix[fpivot, fpivot];\n",
    " \n",
    "                for (int i = 0; i < columnas; i++)\n",
    "                {\n",
    "                    matrix[fpivot, i] = matrix[fpivot, i] / nor;\n",
    "                }\n",
    " \n",
    "                int f = fpivot + 1;\n",
    "                if (f == filas) f = 0;\n",
    " \n",
    "                for (int fila = 0; fila < filas - 1; fila++)\n",
    "                {                 \n",
    "                    double k = matrix[f, fpivot];\n",
    " \n",
    "                    for (int c = fpivot; c < columnas; c++)\n",
    "                    {\n",
    "                        matrix[f, c] = matrix[f, c] - (k * matrix[fpivot, c]);\n",
    "                    }\n",
    "                  \n",
    "                    if (f == filas - 1) f = 0;\n",
    "                    else f++; \n",
    "                }\n",
    "            }\n",
    "        }"
   ]
  },
  {
   "cell_type": "code",
   "execution_count": 23,
   "metadata": {
    "collapsed": false
   },
   "outputs": [
    {
     "data": {
      "text/latex": [
       "$$\\left[\\begin{matrix}2.0 & 1.0 & -3.0 & -1.0\\\\0.0 & 3.5 & 0.5 & 11.5\\\\0.0 & 0.0 & 1.57142857142857 & 3.14285714285714\\end{matrix}\\right]$$"
      ],
      "text/plain": [
       "⎡2.0  1.0        -3.0              -1.0      ⎤\n",
       "⎢                                            ⎥\n",
       "⎢0.0  3.5        0.5               11.5      ⎥\n",
       "⎢                                            ⎥\n",
       "⎣0.0  0.0  1.57142857142857  3.14285714285714⎦"
      ]
     },
     "execution_count": 23,
     "metadata": {},
     "output_type": "execute_result"
    }
   ],
   "source": [
    "MA = copy.deepcopy(A)\n",
    "MA = Matrix(MA)\n",
    "MA"
   ]
  },
  {
   "cell_type": "code",
   "execution_count": 29,
   "metadata": {
    "collapsed": false
   },
   "outputs": [],
   "source": [
    "def GaussJordanHaciaAtras(M,filas,columnas):\n",
    "    for fpivot in range (0,filas):\n",
    "        nor = M[fpivot][fpivot]\n",
    "        print \"nor: \",nor\n",
    "        print \"-------\"\n",
    "        for i in range (0,columnas):\n",
    "            M[fpivot][i] = M[fpivot][i]/nor\n",
    "            print \"M[\",fpivot+1,\"][\",i+1,\"]\" ,\"=\", M[fpivot][i],\"/\",nor\n",
    "        f = fpivot+1\n",
    "        if f == filas:\n",
    "            f = 0\n",
    "        for fila in range (filas -1):\n",
    "            k = M[f][fpivot]\n",
    "            for c in range (fpivot,columnas):\n",
    "                M[f][c]=M[f][c]-(k*M[fpivot][c])\n",
    "                print \"M[\",f+1,\"][\",c+1,\"]\",\"=\",M[f][c],\"-(\",k,\"*\",M[fpivot][c],\")\"\n",
    "            if f == (filas-1):\n",
    "                f = 0\n",
    "            else:\n",
    "                f += 1\n",
    "    return M"
   ]
  },
  {
   "cell_type": "code",
   "execution_count": 28,
   "metadata": {
    "collapsed": false
   },
   "outputs": [
    {
     "name": "stdout",
     "output_type": "stream",
     "text": [
      "1.0\n",
      "-------\n",
      "M[ 1 ][ 1 ] = 1.0 / 1.0\n",
      "M[ 1 ][ 2 ] = 0.0 / 1.0\n",
      "M[ 1 ][ 3 ] = 0.0 / 1.0\n",
      "M[ 1 ][ 4 ] = 1.0 / 1.0\n",
      "M[ 2 ][ 1 ] = 0.0 -( 0.0 * 1.0 )\n",
      "M[ 2 ][ 2 ] = 1.0 -( 0.0 * 0.0 )\n",
      "M[ 2 ][ 3 ] = 0.0 -( 0.0 * 0.0 )\n",
      "M[ 2 ][ 4 ] = 3.0 -( 0.0 * 1.0 )\n",
      "M[ 3 ][ 1 ] = 0.0 -( 0.0 * 1.0 )\n",
      "M[ 3 ][ 2 ] = 0.0 -( 0.0 * 0.0 )\n",
      "M[ 3 ][ 3 ] = 1.0 -( 0.0 * 0.0 )\n",
      "M[ 3 ][ 4 ] = 2.0 -( 0.0 * 1.0 )\n",
      "1.0\n",
      "-------\n",
      "M[ 2 ][ 1 ] = 0.0 / 1.0\n",
      "M[ 2 ][ 2 ] = 1.0 / 1.0\n",
      "M[ 2 ][ 3 ] = 0.0 / 1.0\n",
      "M[ 2 ][ 4 ] = 3.0 / 1.0\n",
      "M[ 3 ][ 2 ] = 0.0 -( 0.0 * 1.0 )\n",
      "M[ 3 ][ 3 ] = 1.0 -( 0.0 * 0.0 )\n",
      "M[ 3 ][ 4 ] = 2.0 -( 0.0 * 3.0 )\n",
      "M[ 1 ][ 2 ] = 0.0 -( 0.0 * 1.0 )\n",
      "M[ 1 ][ 3 ] = 0.0 -( 0.0 * 0.0 )\n",
      "M[ 1 ][ 4 ] = 1.0 -( 0.0 * 3.0 )\n",
      "1.0\n",
      "-------\n",
      "M[ 3 ][ 1 ] = 0.0 / 1.0\n",
      "M[ 3 ][ 2 ] = 0.0 / 1.0\n",
      "M[ 3 ][ 3 ] = 1.0 / 1.0\n",
      "M[ 3 ][ 4 ] = 2.0 / 1.0\n",
      "M[ 1 ][ 3 ] = 0.0 -( 0.0 * 1.0 )\n",
      "M[ 1 ][ 4 ] = 1.0 -( 0.0 * 2.0 )\n",
      "M[ 2 ][ 3 ] = 0.0 -( 0.0 * 1.0 )\n",
      "M[ 2 ][ 4 ] = 3.0 -( 0.0 * 2.0 )\n"
     ]
    }
   ],
   "source": [
    "resul = GaussJordanHaciaAtras(A,len(A),len(A)+1)"
   ]
  },
  {
   "cell_type": "code",
   "execution_count": 26,
   "metadata": {
    "collapsed": false
   },
   "outputs": [
    {
     "data": {
      "text/latex": [
       "$$\\left[\\begin{matrix}1.0 & 0.0 & 0.0 & 1.0\\\\0.0 & 1.0 & 0.0 & 3.0\\\\0.0 & 0.0 & 1.0 & 2.0\\end{matrix}\\right]$$"
      ],
      "text/plain": [
       "⎡1.0  0.0  0.0  1.0⎤\n",
       "⎢                  ⎥\n",
       "⎢0.0  1.0  0.0  3.0⎥\n",
       "⎢                  ⎥\n",
       "⎣0.0  0.0  1.0  2.0⎦"
      ]
     },
     "execution_count": 26,
     "metadata": {},
     "output_type": "execute_result"
    }
   ],
   "source": [
    "MR = copy.deepcopy(resul)\n",
    "Ma = Matrix(MR)\n",
    "Ma"
   ]
  },
  {
   "cell_type": "markdown",
   "metadata": {},
   "source": [
    "# Pivoteo y eliminacion canonica de Gauss"
   ]
  },
  {
   "cell_type": "markdown",
   "metadata": {},
   "source": [
    "$\\begin{bmatrix}\n",
    "\\color{Red} 0 & 10 & 1 & 2\\\\ \n",
    "1 & 3 & -1 & 6\\\\ \n",
    "2 & 4 & 1 & 5 \n",
    "\\end{bmatrix}$"
   ]
  },
  {
   "cell_type": "markdown",
   "metadata": {
    "collapsed": true
   },
   "source": [
    "No se puede eliminar el primer nümero de los renglones segundo y tercero debido a\n",
    "que el primer nümero del primer renglón es igual a cero. "
   ]
  },
  {
   "cell_type": "markdown",
   "metadata": {},
   "source": [
    "$R1 <= R3$\n",
    "\n",
    "$R3 <= R1$"
   ]
  },
  {
   "cell_type": "markdown",
   "metadata": {},
   "source": [
    "$\\begin{bmatrix}\n",
    "2 & 4 & 1 & 5\\\\ \n",
    "1 & 3 & -1 & 6\\\\ \n",
    "\\color{Red} 0 & 10 & 1 & 2 \n",
    "\\end{bmatrix}$"
   ]
  },
  {
   "cell_type": "markdown",
   "metadata": {},
   "source": [
    "### $R2 = R2-(\\frac{1}2)*R1$"
   ]
  },
  {
   "cell_type": "markdown",
   "metadata": {},
   "source": [
    "$\\begin{bmatrix}\n",
    "2 & 4 & 1 & 5\\\\ \n",
    "\\color{Red} 0 & \\color{blue}1 & \\frac{3}2& \\frac{7}2\\\\ \n",
    "\\color{Red} 0 & \\color{blue} 1\\color{blue}0 & 1 & 2 \n",
    "\\end{bmatrix}$"
   ]
  },
  {
   "cell_type": "markdown",
   "metadata": {},
   "source": [
    "### No es recomendable eliminar un nümero mayor en magnitud que el término de la diagonal."
   ]
  },
  {
   "cell_type": "markdown",
   "metadata": {},
   "source": [
    "$R2 <= R3$\n",
    "\n",
    "$R3 <= R2$"
   ]
  },
  {
   "cell_type": "markdown",
   "metadata": {},
   "source": [
    "$\\begin{bmatrix}\n",
    "2 & 4 & 1 & 5\\\\ \n",
    "\\color{Red} 0 & \\color{blue} 1\\color{blue}0 & 1 & 2\\\\ \n",
    "\\color{Red} 0 & \\color{blue}1 & \\frac{3}2& \\frac{7}2\n",
    "\\end{bmatrix}$"
   ]
  },
  {
   "cell_type": "markdown",
   "metadata": {},
   "source": [
    "### $R3 = R3-(\\frac{1}2)*R1$"
   ]
  },
  {
   "cell_type": "markdown",
   "metadata": {},
   "source": [
    "$\\begin{bmatrix}\n",
    "2 & 4 & 1 & 5\\\\ \n",
    "0 &  10 & 1 & 2\\\\ \n",
    "0 & 0 &  \\frac{-16}5 & \\frac{33}5\n",
    "\\end{bmatrix}$"
   ]
  },
  {
   "cell_type": "code",
   "execution_count": null,
   "metadata": {
    "collapsed": true
   },
   "outputs": [],
   "source": []
  },
  {
   "cell_type": "code",
   "execution_count": null,
   "metadata": {
    "collapsed": true
   },
   "outputs": [],
   "source": []
  }
 ],
 "metadata": {
  "kernelspec": {
   "display_name": "Python 2",
   "language": "python",
   "name": "python2"
  },
  "language_info": {
   "codemirror_mode": {
    "name": "ipython",
    "version": 2
   },
   "file_extension": ".py",
   "mimetype": "text/x-python",
   "name": "python",
   "nbconvert_exporter": "python",
   "pygments_lexer": "ipython2",
   "version": "2.7.11"
  }
 },
 "nbformat": 4,
 "nbformat_minor": 0
}
